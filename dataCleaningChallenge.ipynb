{
 "cells": [
  {
   "cell_type": "markdown",
   "id": "0a10001e",
   "metadata": {},
   "source": [
    "### Samuel Terseer Igbawase\n"
   ]
  },
  {
   "cell_type": "markdown",
   "id": "2436711b",
   "metadata": {},
   "source": [
    "## Data cleaning challenge"
   ]
  },
  {
   "cell_type": "code",
   "execution_count": 1,
   "id": "d4f44717",
   "metadata": {},
   "outputs": [],
   "source": [
    "# importing the packages\n",
    "import numpy as np\n",
    "import pandas as pd\n",
    "import re #regular expression module"
   ]
  },
  {
   "cell_type": "code",
   "execution_count": 2,
   "id": "393600c5",
   "metadata": {},
   "outputs": [
    {
     "name": "stderr",
     "output_type": "stream",
     "text": [
      "C:\\Users\\user\\AppData\\Local\\Temp\\ipykernel_2424\\1369213445.py:1: DtypeWarning: Columns (76) have mixed types. Specify dtype option on import or set low_memory=False.\n",
      "  df = pd.read_csv(\"fifa21 raw data v2.csv\")\n"
     ]
    }
   ],
   "source": [
    "df = pd.read_csv(\"fifa21 raw data v2.csv\")"
   ]
  },
  {
   "cell_type": "code",
   "execution_count": 3,
   "id": "df00c000",
   "metadata": {},
   "outputs": [
    {
     "name": "stdout",
     "output_type": "stream",
     "text": [
      "18979 77\n"
     ]
    }
   ],
   "source": [
    "rows,columns= df.shape #accessing the number of rows and columns\n",
    "print (rows,columns)\n",
    "#there are 18979 rows and 77 columns"
   ]
  },
  {
   "cell_type": "code",
   "execution_count": 4,
   "id": "4dc5d9f2",
   "metadata": {},
   "outputs": [
    {
     "data": {
      "text/html": [
       "<div>\n",
       "<style scoped>\n",
       "    .dataframe tbody tr th:only-of-type {\n",
       "        vertical-align: middle;\n",
       "    }\n",
       "\n",
       "    .dataframe tbody tr th {\n",
       "        vertical-align: top;\n",
       "    }\n",
       "\n",
       "    .dataframe thead th {\n",
       "        text-align: right;\n",
       "    }\n",
       "</style>\n",
       "<table border=\"1\" class=\"dataframe\">\n",
       "  <thead>\n",
       "    <tr style=\"text-align: right;\">\n",
       "      <th></th>\n",
       "      <th>ID</th>\n",
       "      <th>Name</th>\n",
       "      <th>LongName</th>\n",
       "      <th>photoUrl</th>\n",
       "      <th>playerUrl</th>\n",
       "      <th>Nationality</th>\n",
       "      <th>Age</th>\n",
       "      <th>↓OVA</th>\n",
       "      <th>POT</th>\n",
       "      <th>Club</th>\n",
       "      <th>...</th>\n",
       "      <th>A/W</th>\n",
       "      <th>D/W</th>\n",
       "      <th>IR</th>\n",
       "      <th>PAC</th>\n",
       "      <th>SHO</th>\n",
       "      <th>PAS</th>\n",
       "      <th>DRI</th>\n",
       "      <th>DEF</th>\n",
       "      <th>PHY</th>\n",
       "      <th>Hits</th>\n",
       "    </tr>\n",
       "  </thead>\n",
       "  <tbody>\n",
       "    <tr>\n",
       "      <th>0</th>\n",
       "      <td>158023</td>\n",
       "      <td>L. Messi</td>\n",
       "      <td>Lionel Messi</td>\n",
       "      <td>https://cdn.sofifa.com/players/158/023/21_60.png</td>\n",
       "      <td>http://sofifa.com/player/158023/lionel-messi/2...</td>\n",
       "      <td>Argentina</td>\n",
       "      <td>33</td>\n",
       "      <td>93</td>\n",
       "      <td>93</td>\n",
       "      <td>\\n\\n\\n\\nFC Barcelona</td>\n",
       "      <td>...</td>\n",
       "      <td>Medium</td>\n",
       "      <td>Low</td>\n",
       "      <td>5 ★</td>\n",
       "      <td>85</td>\n",
       "      <td>92</td>\n",
       "      <td>91</td>\n",
       "      <td>95</td>\n",
       "      <td>38</td>\n",
       "      <td>65</td>\n",
       "      <td>771</td>\n",
       "    </tr>\n",
       "    <tr>\n",
       "      <th>1</th>\n",
       "      <td>20801</td>\n",
       "      <td>Cristiano Ronaldo</td>\n",
       "      <td>C. Ronaldo dos Santos Aveiro</td>\n",
       "      <td>https://cdn.sofifa.com/players/020/801/21_60.png</td>\n",
       "      <td>http://sofifa.com/player/20801/c-ronaldo-dos-s...</td>\n",
       "      <td>Portugal</td>\n",
       "      <td>35</td>\n",
       "      <td>92</td>\n",
       "      <td>92</td>\n",
       "      <td>\\n\\n\\n\\nJuventus</td>\n",
       "      <td>...</td>\n",
       "      <td>High</td>\n",
       "      <td>Low</td>\n",
       "      <td>5 ★</td>\n",
       "      <td>89</td>\n",
       "      <td>93</td>\n",
       "      <td>81</td>\n",
       "      <td>89</td>\n",
       "      <td>35</td>\n",
       "      <td>77</td>\n",
       "      <td>562</td>\n",
       "    </tr>\n",
       "    <tr>\n",
       "      <th>2</th>\n",
       "      <td>200389</td>\n",
       "      <td>J. Oblak</td>\n",
       "      <td>Jan Oblak</td>\n",
       "      <td>https://cdn.sofifa.com/players/200/389/21_60.png</td>\n",
       "      <td>http://sofifa.com/player/200389/jan-oblak/210006/</td>\n",
       "      <td>Slovenia</td>\n",
       "      <td>27</td>\n",
       "      <td>91</td>\n",
       "      <td>93</td>\n",
       "      <td>\\n\\n\\n\\nAtlético Madrid</td>\n",
       "      <td>...</td>\n",
       "      <td>Medium</td>\n",
       "      <td>Medium</td>\n",
       "      <td>3 ★</td>\n",
       "      <td>87</td>\n",
       "      <td>92</td>\n",
       "      <td>78</td>\n",
       "      <td>90</td>\n",
       "      <td>52</td>\n",
       "      <td>90</td>\n",
       "      <td>150</td>\n",
       "    </tr>\n",
       "    <tr>\n",
       "      <th>3</th>\n",
       "      <td>192985</td>\n",
       "      <td>K. De Bruyne</td>\n",
       "      <td>Kevin De Bruyne</td>\n",
       "      <td>https://cdn.sofifa.com/players/192/985/21_60.png</td>\n",
       "      <td>http://sofifa.com/player/192985/kevin-de-bruyn...</td>\n",
       "      <td>Belgium</td>\n",
       "      <td>29</td>\n",
       "      <td>91</td>\n",
       "      <td>91</td>\n",
       "      <td>\\n\\n\\n\\nManchester City</td>\n",
       "      <td>...</td>\n",
       "      <td>High</td>\n",
       "      <td>High</td>\n",
       "      <td>4 ★</td>\n",
       "      <td>76</td>\n",
       "      <td>86</td>\n",
       "      <td>93</td>\n",
       "      <td>88</td>\n",
       "      <td>64</td>\n",
       "      <td>78</td>\n",
       "      <td>207</td>\n",
       "    </tr>\n",
       "    <tr>\n",
       "      <th>4</th>\n",
       "      <td>190871</td>\n",
       "      <td>Neymar Jr</td>\n",
       "      <td>Neymar da Silva Santos Jr.</td>\n",
       "      <td>https://cdn.sofifa.com/players/190/871/21_60.png</td>\n",
       "      <td>http://sofifa.com/player/190871/neymar-da-silv...</td>\n",
       "      <td>Brazil</td>\n",
       "      <td>28</td>\n",
       "      <td>91</td>\n",
       "      <td>91</td>\n",
       "      <td>\\n\\n\\n\\nParis Saint-Germain</td>\n",
       "      <td>...</td>\n",
       "      <td>High</td>\n",
       "      <td>Medium</td>\n",
       "      <td>5 ★</td>\n",
       "      <td>91</td>\n",
       "      <td>85</td>\n",
       "      <td>86</td>\n",
       "      <td>94</td>\n",
       "      <td>36</td>\n",
       "      <td>59</td>\n",
       "      <td>595</td>\n",
       "    </tr>\n",
       "  </tbody>\n",
       "</table>\n",
       "<p>5 rows × 77 columns</p>\n",
       "</div>"
      ],
      "text/plain": [
       "       ID               Name                      LongName  \\\n",
       "0  158023           L. Messi                  Lionel Messi   \n",
       "1   20801  Cristiano Ronaldo  C. Ronaldo dos Santos Aveiro   \n",
       "2  200389           J. Oblak                     Jan Oblak   \n",
       "3  192985       K. De Bruyne               Kevin De Bruyne   \n",
       "4  190871          Neymar Jr    Neymar da Silva Santos Jr.   \n",
       "\n",
       "                                           photoUrl  \\\n",
       "0  https://cdn.sofifa.com/players/158/023/21_60.png   \n",
       "1  https://cdn.sofifa.com/players/020/801/21_60.png   \n",
       "2  https://cdn.sofifa.com/players/200/389/21_60.png   \n",
       "3  https://cdn.sofifa.com/players/192/985/21_60.png   \n",
       "4  https://cdn.sofifa.com/players/190/871/21_60.png   \n",
       "\n",
       "                                           playerUrl Nationality  Age  ↓OVA  \\\n",
       "0  http://sofifa.com/player/158023/lionel-messi/2...   Argentina   33    93   \n",
       "1  http://sofifa.com/player/20801/c-ronaldo-dos-s...    Portugal   35    92   \n",
       "2  http://sofifa.com/player/200389/jan-oblak/210006/    Slovenia   27    91   \n",
       "3  http://sofifa.com/player/192985/kevin-de-bruyn...     Belgium   29    91   \n",
       "4  http://sofifa.com/player/190871/neymar-da-silv...      Brazil   28    91   \n",
       "\n",
       "   POT                         Club  ...     A/W     D/W   IR PAC SHO  PAS  \\\n",
       "0   93         \\n\\n\\n\\nFC Barcelona  ...  Medium     Low  5 ★  85  92   91   \n",
       "1   92             \\n\\n\\n\\nJuventus  ...    High     Low  5 ★  89  93   81   \n",
       "2   93      \\n\\n\\n\\nAtlético Madrid  ...  Medium  Medium  3 ★  87  92   78   \n",
       "3   91      \\n\\n\\n\\nManchester City  ...    High    High  4 ★  76  86   93   \n",
       "4   91  \\n\\n\\n\\nParis Saint-Germain  ...    High  Medium  5 ★  91  85   86   \n",
       "\n",
       "  DRI DEF PHY Hits  \n",
       "0  95  38  65  771  \n",
       "1  89  35  77  562  \n",
       "2  90  52  90  150  \n",
       "3  88  64  78  207  \n",
       "4  94  36  59  595  \n",
       "\n",
       "[5 rows x 77 columns]"
      ]
     },
     "execution_count": 4,
     "metadata": {},
     "output_type": "execute_result"
    }
   ],
   "source": [
    "# viewing the first five rows of the data\n",
    "df.head(5)\n",
    "#the data looks truely dirty"
   ]
  },
  {
   "cell_type": "code",
   "execution_count": 5,
   "id": "0bea887c",
   "metadata": {},
   "outputs": [
    {
     "name": "stdout",
     "output_type": "stream",
     "text": [
      "False\n"
     ]
    }
   ],
   "source": [
    "#cheching for duplicate\n",
    "duplicates = df.duplicated(). any()\n",
    "print(duplicates)\n",
    "#there are no duplicate values in the dataset"
   ]
  },
  {
   "cell_type": "code",
   "execution_count": 6,
   "id": "ce59f899",
   "metadata": {},
   "outputs": [
    {
     "name": "stdout",
     "output_type": "stream",
     "text": [
      "Index(['ID', 'Name', 'LongName', 'photoUrl', 'playerUrl', 'Nationality', 'Age',\n",
      "       '↓OVA', 'POT', 'Club', 'Contract', 'Positions', 'Height', 'Weight',\n",
      "       'Preferred Foot', 'BOV', 'Best Position', 'Joined', 'Loan Date End',\n",
      "       'Value', 'Wage', 'Release Clause', 'Attacking', 'Crossing', 'Finishing',\n",
      "       'Heading Accuracy', 'Short Passing', 'Volleys', 'Skill', 'Dribbling',\n",
      "       'Curve', 'FK Accuracy', 'Long Passing', 'Ball Control', 'Movement',\n",
      "       'Acceleration', 'Sprint Speed', 'Agility', 'Reactions', 'Balance',\n",
      "       'Power', 'Shot Power', 'Jumping', 'Stamina', 'Strength', 'Long Shots',\n",
      "       'Mentality', 'Aggression', 'Interceptions', 'Positioning', 'Vision',\n",
      "       'Penalties', 'Composure', 'Defending', 'Marking', 'Standing Tackle',\n",
      "       'Sliding Tackle', 'Goalkeeping', 'GK Diving', 'GK Handling',\n",
      "       'GK Kicking', 'GK Positioning', 'GK Reflexes', 'Total Stats',\n",
      "       'Base Stats', 'W/F', 'SM', 'A/W', 'D/W', 'IR', 'PAC', 'SHO', 'PAS',\n",
      "       'DRI', 'DEF', 'PHY', 'Hits'],\n",
      "      dtype='object')\n"
     ]
    }
   ],
   "source": [
    "#checking the columns\n",
    "print(df.columns)"
   ]
  },
  {
   "cell_type": "code",
   "execution_count": 7,
   "id": "b6b8484a",
   "metadata": {},
   "outputs": [],
   "source": [
    "#the ↓OVA column has a special character and needs to be renamed\n",
    "df.rename(columns={\"↓OVA\":\"OVA\"}, inplace = True)"
   ]
  },
  {
   "cell_type": "code",
   "execution_count": 8,
   "id": "5acc441c",
   "metadata": {},
   "outputs": [],
   "source": [
    "#trying to keep track of columns whose datatypes needs attention \n",
    "int_columns=[]\n",
    "str_columns=[]\n",
    "object_columns=[]\n",
    "for col in df.columns:\n",
    "    if df[col].dtype ==\"int64\":\n",
    "        int_columns.append(col)\n",
    "    elif df[col].dtype == \"str\":\n",
    "        str_columns.append(col)\n",
    "    elif df[col].dtype ==\"object\":\n",
    "        object_columns.append(col)"
   ]
  },
  {
   "cell_type": "code",
   "execution_count": 9,
   "id": "817438ad",
   "metadata": {},
   "outputs": [
    {
     "name": "stdout",
     "output_type": "stream",
     "text": [
      "['ID', 'Age', 'OVA', 'POT', 'BOV', 'Attacking', 'Crossing', 'Finishing', 'Heading Accuracy', 'Short Passing', 'Volleys', 'Skill', 'Dribbling', 'Curve', 'FK Accuracy', 'Long Passing', 'Ball Control', 'Movement', 'Acceleration', 'Sprint Speed', 'Agility', 'Reactions', 'Balance', 'Power', 'Shot Power', 'Jumping', 'Stamina', 'Strength', 'Long Shots', 'Mentality', 'Aggression', 'Interceptions', 'Positioning', 'Vision', 'Penalties', 'Composure', 'Defending', 'Marking', 'Standing Tackle', 'Sliding Tackle', 'Goalkeeping', 'GK Diving', 'GK Handling', 'GK Kicking', 'GK Positioning', 'GK Reflexes', 'Total Stats', 'Base Stats', 'PAC', 'SHO', 'PAS', 'DRI', 'DEF', 'PHY']\n",
      "counts: 54\n"
     ]
    }
   ],
   "source": [
    "# assessing the int columns\n",
    "print (int_columns)\n",
    "\n",
    "print(\"counts:\",len(int_columns))"
   ]
  },
  {
   "cell_type": "code",
   "execution_count": 10,
   "id": "69925a35",
   "metadata": {},
   "outputs": [
    {
     "name": "stdout",
     "output_type": "stream",
     "text": [
      "[]\n"
     ]
    }
   ],
   "source": [
    "print(str_columns)\n",
    "# there are no string columns"
   ]
  },
  {
   "cell_type": "code",
   "execution_count": 11,
   "id": "c26eaff3",
   "metadata": {},
   "outputs": [
    {
     "name": "stdout",
     "output_type": "stream",
     "text": [
      "['Name', 'LongName', 'photoUrl', 'playerUrl', 'Nationality', 'Club', 'Contract', 'Positions', 'Height', 'Weight', 'Preferred Foot', 'Best Position', 'Joined', 'Loan Date End', 'Value', 'Wage', 'Release Clause', 'W/F', 'SM', 'A/W', 'D/W', 'IR', 'Hits']\n"
     ]
    },
    {
     "data": {
      "text/plain": [
       "(None, 23)"
      ]
     },
     "execution_count": 11,
     "metadata": {},
     "output_type": "execute_result"
    }
   ],
   "source": [
    "print(object_columns),len(object_columns)"
   ]
  },
  {
   "cell_type": "code",
   "execution_count": 12,
   "id": "d85476f9",
   "metadata": {},
   "outputs": [
    {
     "data": {
      "text/plain": [
       "ID                  0\n",
       "Age                 0\n",
       "OVA                 0\n",
       "POT                 0\n",
       "BOV                 0\n",
       "Attacking           0\n",
       "Crossing            0\n",
       "Finishing           0\n",
       "Heading Accuracy    0\n",
       "Short Passing       0\n",
       "Volleys             0\n",
       "Skill               0\n",
       "Dribbling           0\n",
       "Curve               0\n",
       "FK Accuracy         0\n",
       "Long Passing        0\n",
       "Ball Control        0\n",
       "Movement            0\n",
       "Acceleration        0\n",
       "Sprint Speed        0\n",
       "Agility             0\n",
       "Reactions           0\n",
       "Balance             0\n",
       "Power               0\n",
       "Shot Power          0\n",
       "Jumping             0\n",
       "Stamina             0\n",
       "Strength            0\n",
       "Long Shots          0\n",
       "Mentality           0\n",
       "Aggression          0\n",
       "Interceptions       0\n",
       "Positioning         0\n",
       "Vision              0\n",
       "Penalties           0\n",
       "Composure           0\n",
       "Defending           0\n",
       "Marking             0\n",
       "Standing Tackle     0\n",
       "Sliding Tackle      0\n",
       "Goalkeeping         0\n",
       "GK Diving           0\n",
       "GK Handling         0\n",
       "GK Kicking          0\n",
       "GK Positioning      0\n",
       "GK Reflexes         0\n",
       "Total Stats         0\n",
       "Base Stats          0\n",
       "PAC                 0\n",
       "SHO                 0\n",
       "PAS                 0\n",
       "DRI                 0\n",
       "DEF                 0\n",
       "PHY                 0\n",
       "dtype: int64"
      ]
     },
     "execution_count": 12,
     "metadata": {},
     "output_type": "execute_result"
    }
   ],
   "source": [
    "#checking for missing values in the it columns\n",
    "df[int_columns].isna().sum()\n",
    "df[int_columns].isnull().sum()\n",
    "#there no missing or null values in int columns"
   ]
  },
  {
   "cell_type": "code",
   "execution_count": 13,
   "id": "384cd2ca",
   "metadata": {},
   "outputs": [],
   "source": [
    "# i want to creat a new data and add all the clean columns inside\n",
    "new_df = df[int_columns].copy()"
   ]
  },
  {
   "cell_type": "code",
   "execution_count": 14,
   "id": "361faef0",
   "metadata": {},
   "outputs": [],
   "source": [
    "#i want to define a function that will identify the forign characters\n",
    "\"\"\"these function accepts two arguments i.e the dataframe and the column and returns the unique charaters in that particular column of the dataframe\n",
    "\"\"\"\n",
    "def getUniqueCharaters(df,col):\n",
    "    unique_characters = []\n",
    "    for index, row in df.iterrows():\n",
    "        for char in row[col]:\n",
    "            if char not in unique_characters:\n",
    "                unique_characters.append(char)\n",
    "    return unique_characters\n",
    "    "
   ]
  },
  {
   "cell_type": "code",
   "execution_count": 15,
   "id": "34d042b9",
   "metadata": {},
   "outputs": [
    {
     "name": "stdout",
     "output_type": "stream",
     "text": [
      "['L', '.', ' ', 'M', 'e', 's', 'i', 'C', 'r', 't', 'a', 'n', 'o', 'R', 'l', 'd', 'J', 'O', 'b', 'k', 'K', 'D', 'B', 'u', 'y', 'N', 'm', 'w', 'S', 'h', 'A', 'p', 'é', 'g', 'V', 'v', 'j', 'T', 'z', 'ü', 'c', 'P', 'E', 'H', 'č', 'G', 'x', '-', 'F', 'q', 'W', 'ę', 'í', 'ć', 'á', 'I', 'Y', 'ó', 'Š', 'f', 'Z', 'ú', 'ñ', 'Ø', 'à', 'ã', 'š', 'U', 'ý', 'ğ', 'ž', 'Q', 'Ö', 'ï', 'ç', 'X', 'ö', 'ń', 'É', 'Á', 'ø', 'ř', 'æ', 'Ć', 'Ç', 'ð', \"'\", 'Ü', 'ä', 'ô', 'ą', 'ı', 'ă', 'ș', '�', 'Ó', 'ê', 'ş', 'ë', 'â', 'ß', 'è', 'Ş', 'Ō', 'Đ', 'ț', 'õ', 'Ř', 'ł', 'Ž', 'Č', 'ō', 'ò', 'ů', 'ź', 'Â', 'đ', 'Ś', 'Þ', 'î', 'Ż', 'ě', 'Ț', 'å', 'Ș', 'Ł', 'þ', 'ľ', 'Å', 'ś', 'ň', 'İ', 'ő', 'ķ', 'ż', 'ā', '\\xad']\n"
     ]
    }
   ],
   "source": [
    "print(getUniqueCharaters(df,\"Name\"))\n",
    "#there're special characters in this column"
   ]
  },
  {
   "cell_type": "code",
   "execution_count": 16,
   "id": "c13183c2",
   "metadata": {
    "scrolled": true
   },
   "outputs": [
    {
     "data": {
      "text/plain": [
       "170          E. Višća\n",
       "273        I. Perišić\n",
       "360         M. Hamšík\n",
       "437         N. Vlašić\n",
       "794      S. Kolašinac\n",
       "             ...     \n",
       "13524      E. Mašović\n",
       "13641       L. Hroššo\n",
       "13954      S. Luštica\n",
       "15312      D. Matijaš\n",
       "15815          M. Leš\n",
       "Name: Name, Length: 62, dtype: object"
      ]
     },
     "execution_count": 16,
     "metadata": {},
     "output_type": "execute_result"
    }
   ],
   "source": [
    "#i want to fetch some of the characters and check if they mean anything in the data\n",
    "df[\"Name\"][df.Name.str.contains('š','Č')]\n",
    "#so these charaters are contained in the names of players that means there's nothing wrong with them\n"
   ]
  },
  {
   "cell_type": "code",
   "execution_count": 17,
   "id": "d25a2589",
   "metadata": {
    "scrolled": true
   },
   "outputs": [
    {
     "name": "stdout",
     "output_type": "stream",
     "text": [
      "['L', 'i', 'o', 'n', 'e', 'l', ' ', 'M', 's', 'C', '.', 'R', 'a', 'd', 'S', 't', 'A', 'v', 'r', 'J', 'O', 'b', 'k', 'K', 'D', 'B', 'u', 'y', 'N', 'm', 'w', 'h', 'c', 'p', 'é', '-', 'g', 'V', 'j', 'H', 'q', 'T', 'z', 'G', 'í', 'ü', \"'\", 'P', 'E', 'č', 'x', 'F', 'á', 'W', 'ę', 'Á', 'ć', 'I', 'Q', 'ë', 'Y', 'ó', 'Š', 'f', 'Z', 'ê', 'ñ', 'â', 'U', 'ú', 'Ñ', 'Ø', 'à', 'ã', 'š', 'ý', 'İ', 'ğ', 'ž', 'É', 'ř', 'ç', 'Ö', 'ô', 'ï', 'X', 'ö', 'Ł', 'ń', 'Ç', 'ò', 'ø', 'æ', 'Ć', 'ð', 'î', 'Ó', 'Ü', 'ä', 'ą', 'ı', 'è', 'ă', 'ș', 'Ș', 'ł', 'ş', 'ß', 'Ş', 'ū', 'Ō', 'Đ', 'Â', 'ț', 'õ', 'Ř', 'Ž', 'Č', 'å', 'đ', 'ě', 'ō', 'ů', 'ź', 'Ś', 'Þ', 'ā', 'Ż', 'Ț', 'Ľ', 'ż', 'þ', 'ľ', 'Å', 'ś', 'À', 'Í', 'ň', 'ő', 'ķ', '\\xad']\n"
     ]
    }
   ],
   "source": [
    "print(getUniqueCharaters(df,\"LongName\"))"
   ]
  },
  {
   "cell_type": "code",
   "execution_count": 18,
   "id": "c7386065",
   "metadata": {},
   "outputs": [
    {
     "data": {
      "text/plain": [
       "170          Edin Višća\n",
       "273        Ivan Perišić\n",
       "360        Marek Hamšík\n",
       "437       Nikola Vlašić\n",
       "794      Sead Kolašinac\n",
       "              ...      \n",
       "13524     Erhan Mašović\n",
       "13641      Lukáš Hroššo\n",
       "13954    Steven Luštica\n",
       "15312     Davor Matijaš\n",
       "15815         Mateo Leš\n",
       "Name: LongName, Length: 62, dtype: object"
      ]
     },
     "execution_count": 18,
     "metadata": {},
     "output_type": "execute_result"
    }
   ],
   "source": [
    "df[\"LongName\"][df.Name.str.contains('š','Č')]\n",
    "# LongName too is good however, it seem to contain the same information as Name column. one may consider to drop it"
   ]
  },
  {
   "cell_type": "code",
   "execution_count": 19,
   "id": "66cb4dd4",
   "metadata": {
    "scrolled": true
   },
   "outputs": [
    {
     "name": "stdout",
     "output_type": "stream",
     "text": [
      "['h', 't', 'p', 's', ':', '/', 'c', 'd', 'n', '.', 'o', 'f', 'i', 'a', 'm', 'l', 'y', 'e', 'r', '1', '5', '8', '0', '2', '3', '_', '6', 'g', '9', '7', '4']\n"
     ]
    }
   ],
   "source": [
    "print(getUniqueCharaters(df,\"photoUrl\"))\n",
    "#there're no special characters in this column aside normal url charaters"
   ]
  },
  {
   "cell_type": "code",
   "execution_count": 20,
   "id": "4fc53421",
   "metadata": {},
   "outputs": [],
   "source": [
    "# asses photoUrl for null and missing values"
   ]
  },
  {
   "cell_type": "code",
   "execution_count": 21,
   "id": "3dea4302",
   "metadata": {},
   "outputs": [
    {
     "name": "stdout",
     "output_type": "stream",
     "text": [
      "False\n",
      "False\n"
     ]
    }
   ],
   "source": [
    "print(df.photoUrl.isnull().any())\n",
    "print(df.photoUrl.isna().any())\n",
    "#there're no null or missing values"
   ]
  },
  {
   "cell_type": "code",
   "execution_count": 22,
   "id": "b3d10b76",
   "metadata": {},
   "outputs": [
    {
     "data": {
      "text/plain": [
       "0     https://cdn.sofifa.com/players/158/023/21_60.png\n",
       "1     https://cdn.sofifa.com/players/020/801/21_60.png\n",
       "2     https://cdn.sofifa.com/players/200/389/21_60.png\n",
       "3     https://cdn.sofifa.com/players/192/985/21_60.png\n",
       "4     https://cdn.sofifa.com/players/190/871/21_60.png\n",
       "5     https://cdn.sofifa.com/players/188/545/21_60.png\n",
       "6     https://cdn.sofifa.com/players/209/331/21_60.png\n",
       "7     https://cdn.sofifa.com/players/212/831/21_60.png\n",
       "8     https://cdn.sofifa.com/players/231/747/21_60.png\n",
       "9     https://cdn.sofifa.com/players/192/448/21_60.png\n",
       "10    https://cdn.sofifa.com/players/203/376/21_60.png\n",
       "11    https://cdn.sofifa.com/players/208/722/21_60.png\n",
       "12    https://cdn.sofifa.com/players/200/145/21_60.png\n",
       "13    https://cdn.sofifa.com/players/192/119/21_60.png\n",
       "14    https://cdn.sofifa.com/players/167/495/21_60.png\n",
       "15    https://cdn.sofifa.com/players/165/153/21_60.png\n",
       "16    https://cdn.sofifa.com/players/155/862/21_60.png\n",
       "17    https://cdn.sofifa.com/players/153/079/21_60.png\n",
       "18    https://cdn.sofifa.com/players/202/652/21_60.png\n",
       "19    https://cdn.sofifa.com/players/215/914/21_60.png\n",
       "Name: photoUrl, dtype: object"
      ]
     },
     "execution_count": 22,
     "metadata": {},
     "output_type": "execute_result"
    }
   ],
   "source": [
    "df.photoUrl.head(20)"
   ]
  },
  {
   "cell_type": "code",
   "execution_count": 23,
   "id": "a0476a5d",
   "metadata": {},
   "outputs": [
    {
     "data": {
      "text/html": [
       "<div>\n",
       "<style scoped>\n",
       "    .dataframe tbody tr th:only-of-type {\n",
       "        vertical-align: middle;\n",
       "    }\n",
       "\n",
       "    .dataframe tbody tr th {\n",
       "        vertical-align: top;\n",
       "    }\n",
       "\n",
       "    .dataframe thead th {\n",
       "        text-align: right;\n",
       "    }\n",
       "</style>\n",
       "<table border=\"1\" class=\"dataframe\">\n",
       "  <thead>\n",
       "    <tr style=\"text-align: right;\">\n",
       "      <th></th>\n",
       "      <th>ID</th>\n",
       "      <th>Name</th>\n",
       "      <th>LongName</th>\n",
       "      <th>photoUrl</th>\n",
       "      <th>playerUrl</th>\n",
       "      <th>Nationality</th>\n",
       "      <th>Age</th>\n",
       "      <th>OVA</th>\n",
       "      <th>POT</th>\n",
       "      <th>Club</th>\n",
       "      <th>...</th>\n",
       "      <th>A/W</th>\n",
       "      <th>D/W</th>\n",
       "      <th>IR</th>\n",
       "      <th>PAC</th>\n",
       "      <th>SHO</th>\n",
       "      <th>PAS</th>\n",
       "      <th>DRI</th>\n",
       "      <th>DEF</th>\n",
       "      <th>PHY</th>\n",
       "      <th>Hits</th>\n",
       "    </tr>\n",
       "  </thead>\n",
       "  <tbody>\n",
       "  </tbody>\n",
       "</table>\n",
       "<p>0 rows × 77 columns</p>\n",
       "</div>"
      ],
      "text/plain": [
       "Empty DataFrame\n",
       "Columns: [ID, Name, LongName, photoUrl, playerUrl, Nationality, Age, OVA, POT, Club, Contract, Positions, Height, Weight, Preferred Foot, BOV, Best Position, Joined, Loan Date End, Value, Wage, Release Clause, Attacking, Crossing, Finishing, Heading Accuracy, Short Passing, Volleys, Skill, Dribbling, Curve, FK Accuracy, Long Passing, Ball Control, Movement, Acceleration, Sprint Speed, Agility, Reactions, Balance, Power, Shot Power, Jumping, Stamina, Strength, Long Shots, Mentality, Aggression, Interceptions, Positioning, Vision, Penalties, Composure, Defending, Marking, Standing Tackle, Sliding Tackle, Goalkeeping, GK Diving, GK Handling, GK Kicking, GK Positioning, GK Reflexes, Total Stats, Base Stats, W/F, SM, A/W, D/W, IR, PAC, SHO, PAS, DRI, DEF, PHY, Hits]\n",
       "Index: []\n",
       "\n",
       "[0 rows x 77 columns]"
      ]
     },
     "execution_count": 23,
     "metadata": {},
     "output_type": "execute_result"
    }
   ],
   "source": [
    "#lets find out if the photos are all in .png format\n",
    "df[df.photoUrl.str[-4:] !=\".png\"]\n",
    "#all photos are in .png format"
   ]
  },
  {
   "cell_type": "code",
   "execution_count": 24,
   "id": "a11fb922",
   "metadata": {},
   "outputs": [
    {
     "name": "stdout",
     "output_type": "stream",
     "text": [
      "['h', 't', 'p', ':', '/', 's', 'o', 'f', 'i', 'a', '.', 'c', 'm', 'l', 'y', 'e', 'r', '1', '5', '8', '0', '2', '3', 'n', '-', '6', 'd', 'v', '9', 'j', 'b', 'k', 'u', '7', '4', 'w', 'g', 'q', 'z', 'x']\n"
     ]
    }
   ],
   "source": [
    "print(getUniqueCharaters(df,\"playerUrl\"))\n",
    "#playerurl is also clean"
   ]
  },
  {
   "cell_type": "code",
   "execution_count": 25,
   "id": "104678d4",
   "metadata": {},
   "outputs": [
    {
     "name": "stdout",
     "output_type": "stream",
     "text": [
      "['A', 'r', 'g', 'e', 'n', 't', 'i', 'a', 'P', 'o', 'u', 'l', 'S', 'v', 'B', 'm', 'z', 'd', 'E', 'y', 'p', 'F', 'c', 'G', 'N', 'h', 's', 'K', ' ', 'R', 'b', 'C', 'I', 'U', 'w', 'k', 'M', 'D', 'H', 'x', 'W', 'T', 'V', 'f', 'J', 'Z', 'q', 'L', '&', 'ã', 'é', 'í', 'j']\n"
     ]
    }
   ],
   "source": [
    "print(getUniqueCharaters(df,\"Nationality\"))"
   ]
  },
  {
   "cell_type": "code",
   "execution_count": 26,
   "id": "761eb55f",
   "metadata": {},
   "outputs": [
    {
     "data": {
      "text/plain": [
       "167      Portugal\n",
       "211      Portugal\n",
       "280      Portugal\n",
       "387        Brazil\n",
       "435      Portugal\n",
       "           ...   \n",
       "14170      Brazil\n",
       "14910    Portugal\n",
       "14928      Brazil\n",
       "14973    Portugal\n",
       "15432    Portugal\n",
       "Name: Nationality, Length: 86, dtype: object"
      ]
     },
     "execution_count": 26,
     "metadata": {},
     "output_type": "execute_result"
    }
   ],
   "source": [
    "df[\"Nationality\"][df.Name.str.contains('ã','é')]\n",
    "#these are names of countries, that explains the unusual characters."
   ]
  },
  {
   "cell_type": "code",
   "execution_count": 27,
   "id": "863b6a75",
   "metadata": {},
   "outputs": [
    {
     "name": "stdout",
     "output_type": "stream",
     "text": [
      "False\n",
      "False\n"
     ]
    }
   ],
   "source": [
    "print(df.Nationality.isnull().any())\n",
    "print(df.Nationality.isna().any())"
   ]
  },
  {
   "cell_type": "code",
   "execution_count": 28,
   "id": "b44ca437",
   "metadata": {
    "scrolled": true
   },
   "outputs": [
    {
     "name": "stdout",
     "output_type": "stream",
     "text": [
      "['\\n', 'F', 'C', ' ', 'B', 'a', 'r', 'c', 'e', 'l', 'o', 'n', 'J', 'u', 'v', 't', 's', 'A', 'é', 'i', 'M', 'd', 'h', 'y', 'P', 'S', '-', 'G', 'm', 'ü', 'L', 'p', 'R', 'T', 'H', 'I', 'N', 'D', 'U', 'z', 'ö', 'g', 'b', 'O', 'q', 'V', 'j', 'x', 'f', 'W', 'E', 'ê', 'w', 'k', 'ş', 'K', '0', '4', '1', '8', '9', 'ã', '.', 'Y', 'É', 'Z', '&', 'ç', 'ó', 'ú', '2', 'á', 'Q', 'Ç', '5', 'í', '3', 'ø', 'î', 'ñ', \"'\", 'ň', 'è', '6', 'ğ', 'ł', '/', '(', ')', 'ń', 'ę', 'â', '7', 'å', 'æ', 'Ś', 'ą', 'ä', 'Ö', 'ș']\n"
     ]
    }
   ],
   "source": [
    "print(getUniqueCharaters(df,\"Club\"))"
   ]
  },
  {
   "cell_type": "code",
   "execution_count": 29,
   "id": "bc4ce697",
   "metadata": {},
   "outputs": [],
   "source": [
    "df['Club']=df['Club'].str.replace('\\n',\"\",regex=True)"
   ]
  },
  {
   "cell_type": "code",
   "execution_count": 30,
   "id": "61aa911a",
   "metadata": {},
   "outputs": [
    {
     "name": "stdout",
     "output_type": "stream",
     "text": [
      "['2', '0', '4', ' ', '~', '1', '8', '3', '5', '7', '6', '9', 'J', 'u', 'n', ',', 'O', 'L', 'o', 'a', 'F', 'r', 'e', 'D', 'c', 'M', 'y', 'l', 'A', 'g', 'N', 'v']\n"
     ]
    }
   ],
   "source": [
    "print(getUniqueCharaters(df,\"Contract\"))"
   ]
  },
  {
   "cell_type": "code",
   "execution_count": 31,
   "id": "a7d180f6",
   "metadata": {},
   "outputs": [
    {
     "name": "stdout",
     "output_type": "stream",
     "text": [
      "False\n"
     ]
    }
   ],
   "source": [
    "print(df['Contract'].isnull().any())"
   ]
  },
  {
   "cell_type": "code",
   "execution_count": 32,
   "id": "53bd4010",
   "metadata": {},
   "outputs": [
    {
     "data": {
      "text/plain": [
       "0    2004 ~ 2021\n",
       "1    2018 ~ 2022\n",
       "2    2014 ~ 2023\n",
       "3    2015 ~ 2023\n",
       "4    2017 ~ 2022\n",
       "Name: Contract, dtype: object"
      ]
     },
     "execution_count": 32,
     "metadata": {},
     "output_type": "execute_result"
    }
   ],
   "source": [
    "df['Contract'].head()"
   ]
  },
  {
   "cell_type": "code",
   "execution_count": 33,
   "id": "180d5b87",
   "metadata": {},
   "outputs": [
    {
     "data": {
      "text/plain": [
       "0    2004 - 2021\n",
       "1    2018 - 2022\n",
       "2    2014 - 2023\n",
       "3    2015 - 2023\n",
       "4    2017 - 2022\n",
       "Name: Contract, dtype: object"
      ]
     },
     "execution_count": 33,
     "metadata": {},
     "output_type": "execute_result"
    }
   ],
   "source": [
    "df['Contract'] = df['Contract'].str.replace('~','-',regex = True)\n",
    "df['Contract'].head()"
   ]
  },
  {
   "cell_type": "code",
   "execution_count": 34,
   "id": "e628ff7e",
   "metadata": {},
   "outputs": [],
   "source": [
    "#i want to add the columns i've cleaned so far to new_df\n",
    "new_df['photoUrl'] = pd.Series(df.photoUrl.copy(), dtype=str)\n",
    "new_df['LongName'] = pd.Series(df.LongName.copy(), dtype=str)\n",
    "new_df['playerurl'] = pd.Series(df.playerUrl.copy(), dtype=str)\n",
    "new_df['Nationality'] = pd.Series(df.Nationality.copy(), dtype=str)\n",
    "new_df['Contract'] = pd.Series(df.Contract.copy(), dtype=object)\n",
    "new_df['Club'] = pd.Series(df.Club.copy(), dtype=str)\n"
   ]
  },
  {
   "cell_type": "code",
   "execution_count": 35,
   "id": "4ae901bd",
   "metadata": {},
   "outputs": [
    {
     "name": "stdout",
     "output_type": "stream",
     "text": [
      "['R', 'W', ',', ' ', 'S', 'T', 'C', 'F', 'L', 'G', 'K', 'A', 'M', 'B', 'D']\n"
     ]
    }
   ],
   "source": [
    "print(getUniqueCharaters(df,\"Positions\"))"
   ]
  },
  {
   "cell_type": "code",
   "execution_count": 36,
   "id": "4aefedf8",
   "metadata": {},
   "outputs": [
    {
     "data": {
      "text/plain": [
       "640"
      ]
     },
     "execution_count": 36,
     "metadata": {},
     "output_type": "execute_result"
    }
   ],
   "source": [
    "len(df.Positions.unique())#getting the length of unique v alues"
   ]
  },
  {
   "cell_type": "code",
   "execution_count": 37,
   "id": "7251e4a7",
   "metadata": {
    "scrolled": true
   },
   "outputs": [
    {
     "data": {
      "text/plain": [
       "0    RW, ST, CF\n",
       "1        ST, LW\n",
       "2            GK\n",
       "3       CAM, CM\n",
       "4       LW, CAM\n",
       "5            ST\n",
       "6            RW\n",
       "7            GK\n",
       "8    ST, LW, RW\n",
       "9            GK\n",
       "Name: Positions, dtype: object"
      ]
     },
     "execution_count": 37,
     "metadata": {},
     "output_type": "execute_result"
    }
   ],
   "source": [
    "df['Positions'].head(10)"
   ]
  },
  {
   "cell_type": "code",
   "execution_count": 38,
   "id": "d3464ee9",
   "metadata": {},
   "outputs": [],
   "source": [
    "counter = 1\n",
    "array_of_position_categoricals = {}\n",
    "for pos in df.Positions.unique():\n",
    "    if pos not in array_of_position_categoricals.keys():\n",
    "        array_of_position_categoricals[pos] = counter\n",
    "        counter+=1\n",
    "new_pos = df.Positions.copy()\n",
    "new_pos.replace(array_of_position_categoricals, inplace=True)\n",
    "# Lets add the categorical column to the clean data\n",
    "new_df['Positions Categorical'] = pd.Series(new_pos).astype('int64')\n",
    "# Lets add the column itself to the clean data\n",
    "new_df['Positions'] = pd.Series(df.Positions.copy().astype(\"str\"))"
   ]
  },
  {
   "cell_type": "code",
   "execution_count": 39,
   "id": "85012aba",
   "metadata": {},
   "outputs": [
    {
     "data": {
      "text/html": [
       "<div>\n",
       "<style scoped>\n",
       "    .dataframe tbody tr th:only-of-type {\n",
       "        vertical-align: middle;\n",
       "    }\n",
       "\n",
       "    .dataframe tbody tr th {\n",
       "        vertical-align: top;\n",
       "    }\n",
       "\n",
       "    .dataframe thead th {\n",
       "        text-align: right;\n",
       "    }\n",
       "</style>\n",
       "<table border=\"1\" class=\"dataframe\">\n",
       "  <thead>\n",
       "    <tr style=\"text-align: right;\">\n",
       "      <th></th>\n",
       "      <th>ID</th>\n",
       "      <th>Age</th>\n",
       "      <th>OVA</th>\n",
       "      <th>POT</th>\n",
       "      <th>BOV</th>\n",
       "      <th>Attacking</th>\n",
       "      <th>Crossing</th>\n",
       "      <th>Finishing</th>\n",
       "      <th>Heading Accuracy</th>\n",
       "      <th>Short Passing</th>\n",
       "      <th>...</th>\n",
       "      <th>DEF</th>\n",
       "      <th>PHY</th>\n",
       "      <th>photoUrl</th>\n",
       "      <th>LongName</th>\n",
       "      <th>playerurl</th>\n",
       "      <th>Nationality</th>\n",
       "      <th>Contract</th>\n",
       "      <th>Club</th>\n",
       "      <th>Positions Categorical</th>\n",
       "      <th>Positions</th>\n",
       "    </tr>\n",
       "  </thead>\n",
       "  <tbody>\n",
       "    <tr>\n",
       "      <th>0</th>\n",
       "      <td>158023</td>\n",
       "      <td>33</td>\n",
       "      <td>93</td>\n",
       "      <td>93</td>\n",
       "      <td>93</td>\n",
       "      <td>429</td>\n",
       "      <td>85</td>\n",
       "      <td>95</td>\n",
       "      <td>70</td>\n",
       "      <td>91</td>\n",
       "      <td>...</td>\n",
       "      <td>38</td>\n",
       "      <td>65</td>\n",
       "      <td>https://cdn.sofifa.com/players/158/023/21_60.png</td>\n",
       "      <td>Lionel Messi</td>\n",
       "      <td>http://sofifa.com/player/158023/lionel-messi/2...</td>\n",
       "      <td>Argentina</td>\n",
       "      <td>2004 - 2021</td>\n",
       "      <td>FC Barcelona</td>\n",
       "      <td>1</td>\n",
       "      <td>RW, ST, CF</td>\n",
       "    </tr>\n",
       "    <tr>\n",
       "      <th>1</th>\n",
       "      <td>20801</td>\n",
       "      <td>35</td>\n",
       "      <td>92</td>\n",
       "      <td>92</td>\n",
       "      <td>92</td>\n",
       "      <td>437</td>\n",
       "      <td>84</td>\n",
       "      <td>95</td>\n",
       "      <td>90</td>\n",
       "      <td>82</td>\n",
       "      <td>...</td>\n",
       "      <td>35</td>\n",
       "      <td>77</td>\n",
       "      <td>https://cdn.sofifa.com/players/020/801/21_60.png</td>\n",
       "      <td>C. Ronaldo dos Santos Aveiro</td>\n",
       "      <td>http://sofifa.com/player/20801/c-ronaldo-dos-s...</td>\n",
       "      <td>Portugal</td>\n",
       "      <td>2018 - 2022</td>\n",
       "      <td>Juventus</td>\n",
       "      <td>2</td>\n",
       "      <td>ST, LW</td>\n",
       "    </tr>\n",
       "    <tr>\n",
       "      <th>2</th>\n",
       "      <td>200389</td>\n",
       "      <td>27</td>\n",
       "      <td>91</td>\n",
       "      <td>93</td>\n",
       "      <td>91</td>\n",
       "      <td>95</td>\n",
       "      <td>13</td>\n",
       "      <td>11</td>\n",
       "      <td>15</td>\n",
       "      <td>43</td>\n",
       "      <td>...</td>\n",
       "      <td>52</td>\n",
       "      <td>90</td>\n",
       "      <td>https://cdn.sofifa.com/players/200/389/21_60.png</td>\n",
       "      <td>Jan Oblak</td>\n",
       "      <td>http://sofifa.com/player/200389/jan-oblak/210006/</td>\n",
       "      <td>Slovenia</td>\n",
       "      <td>2014 - 2023</td>\n",
       "      <td>Atlético Madrid</td>\n",
       "      <td>3</td>\n",
       "      <td>GK</td>\n",
       "    </tr>\n",
       "    <tr>\n",
       "      <th>3</th>\n",
       "      <td>192985</td>\n",
       "      <td>29</td>\n",
       "      <td>91</td>\n",
       "      <td>91</td>\n",
       "      <td>91</td>\n",
       "      <td>407</td>\n",
       "      <td>94</td>\n",
       "      <td>82</td>\n",
       "      <td>55</td>\n",
       "      <td>94</td>\n",
       "      <td>...</td>\n",
       "      <td>64</td>\n",
       "      <td>78</td>\n",
       "      <td>https://cdn.sofifa.com/players/192/985/21_60.png</td>\n",
       "      <td>Kevin De Bruyne</td>\n",
       "      <td>http://sofifa.com/player/192985/kevin-de-bruyn...</td>\n",
       "      <td>Belgium</td>\n",
       "      <td>2015 - 2023</td>\n",
       "      <td>Manchester City</td>\n",
       "      <td>4</td>\n",
       "      <td>CAM, CM</td>\n",
       "    </tr>\n",
       "    <tr>\n",
       "      <th>4</th>\n",
       "      <td>190871</td>\n",
       "      <td>28</td>\n",
       "      <td>91</td>\n",
       "      <td>91</td>\n",
       "      <td>91</td>\n",
       "      <td>408</td>\n",
       "      <td>85</td>\n",
       "      <td>87</td>\n",
       "      <td>62</td>\n",
       "      <td>87</td>\n",
       "      <td>...</td>\n",
       "      <td>36</td>\n",
       "      <td>59</td>\n",
       "      <td>https://cdn.sofifa.com/players/190/871/21_60.png</td>\n",
       "      <td>Neymar da Silva Santos Jr.</td>\n",
       "      <td>http://sofifa.com/player/190871/neymar-da-silv...</td>\n",
       "      <td>Brazil</td>\n",
       "      <td>2017 - 2022</td>\n",
       "      <td>Paris Saint-Germain</td>\n",
       "      <td>5</td>\n",
       "      <td>LW, CAM</td>\n",
       "    </tr>\n",
       "    <tr>\n",
       "      <th>5</th>\n",
       "      <td>188545</td>\n",
       "      <td>31</td>\n",
       "      <td>91</td>\n",
       "      <td>91</td>\n",
       "      <td>91</td>\n",
       "      <td>423</td>\n",
       "      <td>71</td>\n",
       "      <td>94</td>\n",
       "      <td>85</td>\n",
       "      <td>84</td>\n",
       "      <td>...</td>\n",
       "      <td>43</td>\n",
       "      <td>82</td>\n",
       "      <td>https://cdn.sofifa.com/players/188/545/21_60.png</td>\n",
       "      <td>Robert Lewandowski</td>\n",
       "      <td>http://sofifa.com/player/188545/robert-lewando...</td>\n",
       "      <td>Poland</td>\n",
       "      <td>2014 - 2023</td>\n",
       "      <td>FC Bayern München</td>\n",
       "      <td>6</td>\n",
       "      <td>ST</td>\n",
       "    </tr>\n",
       "    <tr>\n",
       "      <th>6</th>\n",
       "      <td>209331</td>\n",
       "      <td>28</td>\n",
       "      <td>90</td>\n",
       "      <td>90</td>\n",
       "      <td>90</td>\n",
       "      <td>392</td>\n",
       "      <td>79</td>\n",
       "      <td>91</td>\n",
       "      <td>59</td>\n",
       "      <td>84</td>\n",
       "      <td>...</td>\n",
       "      <td>45</td>\n",
       "      <td>75</td>\n",
       "      <td>https://cdn.sofifa.com/players/209/331/21_60.png</td>\n",
       "      <td>Mohamed Salah</td>\n",
       "      <td>http://sofifa.com/player/209331/mohamed-salah/...</td>\n",
       "      <td>Egypt</td>\n",
       "      <td>2017 - 2023</td>\n",
       "      <td>Liverpool</td>\n",
       "      <td>7</td>\n",
       "      <td>RW</td>\n",
       "    </tr>\n",
       "    <tr>\n",
       "      <th>7</th>\n",
       "      <td>212831</td>\n",
       "      <td>27</td>\n",
       "      <td>90</td>\n",
       "      <td>91</td>\n",
       "      <td>90</td>\n",
       "      <td>114</td>\n",
       "      <td>17</td>\n",
       "      <td>13</td>\n",
       "      <td>19</td>\n",
       "      <td>45</td>\n",
       "      <td>...</td>\n",
       "      <td>51</td>\n",
       "      <td>91</td>\n",
       "      <td>https://cdn.sofifa.com/players/212/831/21_60.png</td>\n",
       "      <td>Alisson Ramses Becker</td>\n",
       "      <td>http://sofifa.com/player/212831/alisson-ramses...</td>\n",
       "      <td>Brazil</td>\n",
       "      <td>2018 - 2024</td>\n",
       "      <td>Liverpool</td>\n",
       "      <td>3</td>\n",
       "      <td>GK</td>\n",
       "    </tr>\n",
       "    <tr>\n",
       "      <th>8</th>\n",
       "      <td>231747</td>\n",
       "      <td>21</td>\n",
       "      <td>90</td>\n",
       "      <td>95</td>\n",
       "      <td>91</td>\n",
       "      <td>408</td>\n",
       "      <td>78</td>\n",
       "      <td>91</td>\n",
       "      <td>73</td>\n",
       "      <td>83</td>\n",
       "      <td>...</td>\n",
       "      <td>39</td>\n",
       "      <td>76</td>\n",
       "      <td>https://cdn.sofifa.com/players/231/747/21_60.png</td>\n",
       "      <td>Kylian Mbappé</td>\n",
       "      <td>http://sofifa.com/player/231747/kylian-mbappe/...</td>\n",
       "      <td>France</td>\n",
       "      <td>2018 - 2022</td>\n",
       "      <td>Paris Saint-Germain</td>\n",
       "      <td>8</td>\n",
       "      <td>ST, LW, RW</td>\n",
       "    </tr>\n",
       "    <tr>\n",
       "      <th>9</th>\n",
       "      <td>192448</td>\n",
       "      <td>28</td>\n",
       "      <td>90</td>\n",
       "      <td>93</td>\n",
       "      <td>90</td>\n",
       "      <td>118</td>\n",
       "      <td>18</td>\n",
       "      <td>14</td>\n",
       "      <td>11</td>\n",
       "      <td>61</td>\n",
       "      <td>...</td>\n",
       "      <td>45</td>\n",
       "      <td>88</td>\n",
       "      <td>https://cdn.sofifa.com/players/192/448/21_60.png</td>\n",
       "      <td>Marc-André ter Stegen</td>\n",
       "      <td>http://sofifa.com/player/192448/marc-andre-ter...</td>\n",
       "      <td>Germany</td>\n",
       "      <td>2014 - 2022</td>\n",
       "      <td>FC Barcelona</td>\n",
       "      <td>3</td>\n",
       "      <td>GK</td>\n",
       "    </tr>\n",
       "  </tbody>\n",
       "</table>\n",
       "<p>10 rows × 62 columns</p>\n",
       "</div>"
      ],
      "text/plain": [
       "       ID  Age  OVA  POT  BOV  Attacking  Crossing  Finishing  \\\n",
       "0  158023   33   93   93   93        429        85         95   \n",
       "1   20801   35   92   92   92        437        84         95   \n",
       "2  200389   27   91   93   91         95        13         11   \n",
       "3  192985   29   91   91   91        407        94         82   \n",
       "4  190871   28   91   91   91        408        85         87   \n",
       "5  188545   31   91   91   91        423        71         94   \n",
       "6  209331   28   90   90   90        392        79         91   \n",
       "7  212831   27   90   91   90        114        17         13   \n",
       "8  231747   21   90   95   91        408        78         91   \n",
       "9  192448   28   90   93   90        118        18         14   \n",
       "\n",
       "   Heading Accuracy  Short Passing  ...  DEF  PHY  \\\n",
       "0                70             91  ...   38   65   \n",
       "1                90             82  ...   35   77   \n",
       "2                15             43  ...   52   90   \n",
       "3                55             94  ...   64   78   \n",
       "4                62             87  ...   36   59   \n",
       "5                85             84  ...   43   82   \n",
       "6                59             84  ...   45   75   \n",
       "7                19             45  ...   51   91   \n",
       "8                73             83  ...   39   76   \n",
       "9                11             61  ...   45   88   \n",
       "\n",
       "                                           photoUrl  \\\n",
       "0  https://cdn.sofifa.com/players/158/023/21_60.png   \n",
       "1  https://cdn.sofifa.com/players/020/801/21_60.png   \n",
       "2  https://cdn.sofifa.com/players/200/389/21_60.png   \n",
       "3  https://cdn.sofifa.com/players/192/985/21_60.png   \n",
       "4  https://cdn.sofifa.com/players/190/871/21_60.png   \n",
       "5  https://cdn.sofifa.com/players/188/545/21_60.png   \n",
       "6  https://cdn.sofifa.com/players/209/331/21_60.png   \n",
       "7  https://cdn.sofifa.com/players/212/831/21_60.png   \n",
       "8  https://cdn.sofifa.com/players/231/747/21_60.png   \n",
       "9  https://cdn.sofifa.com/players/192/448/21_60.png   \n",
       "\n",
       "                       LongName  \\\n",
       "0                  Lionel Messi   \n",
       "1  C. Ronaldo dos Santos Aveiro   \n",
       "2                     Jan Oblak   \n",
       "3               Kevin De Bruyne   \n",
       "4    Neymar da Silva Santos Jr.   \n",
       "5            Robert Lewandowski   \n",
       "6                 Mohamed Salah   \n",
       "7         Alisson Ramses Becker   \n",
       "8                 Kylian Mbappé   \n",
       "9         Marc-André ter Stegen   \n",
       "\n",
       "                                           playerurl  Nationality  \\\n",
       "0  http://sofifa.com/player/158023/lionel-messi/2...    Argentina   \n",
       "1  http://sofifa.com/player/20801/c-ronaldo-dos-s...     Portugal   \n",
       "2  http://sofifa.com/player/200389/jan-oblak/210006/     Slovenia   \n",
       "3  http://sofifa.com/player/192985/kevin-de-bruyn...      Belgium   \n",
       "4  http://sofifa.com/player/190871/neymar-da-silv...       Brazil   \n",
       "5  http://sofifa.com/player/188545/robert-lewando...       Poland   \n",
       "6  http://sofifa.com/player/209331/mohamed-salah/...        Egypt   \n",
       "7  http://sofifa.com/player/212831/alisson-ramses...       Brazil   \n",
       "8  http://sofifa.com/player/231747/kylian-mbappe/...       France   \n",
       "9  http://sofifa.com/player/192448/marc-andre-ter...      Germany   \n",
       "\n",
       "      Contract                 Club  Positions Categorical   Positions  \n",
       "0  2004 - 2021         FC Barcelona                      1  RW, ST, CF  \n",
       "1  2018 - 2022             Juventus                      2      ST, LW  \n",
       "2  2014 - 2023      Atlético Madrid                      3          GK  \n",
       "3  2015 - 2023      Manchester City                      4     CAM, CM  \n",
       "4  2017 - 2022  Paris Saint-Germain                      5     LW, CAM  \n",
       "5  2014 - 2023    FC Bayern München                      6          ST  \n",
       "6  2017 - 2023            Liverpool                      7          RW  \n",
       "7  2018 - 2024            Liverpool                      3          GK  \n",
       "8  2018 - 2022  Paris Saint-Germain                      8  ST, LW, RW  \n",
       "9  2014 - 2022         FC Barcelona                      3          GK  \n",
       "\n",
       "[10 rows x 62 columns]"
      ]
     },
     "execution_count": 39,
     "metadata": {},
     "output_type": "execute_result"
    }
   ],
   "source": [
    "new_df.head(10)"
   ]
  },
  {
   "cell_type": "code",
   "execution_count": 40,
   "id": "855de2dd",
   "metadata": {},
   "outputs": [
    {
     "name": "stdout",
     "output_type": "stream",
     "text": [
      "['1', '7', '0', 'c', 'm', '8', '5', '4', '9', '3', '6', '2', \"'\", '\"']\n"
     ]
    },
    {
     "data": {
      "text/plain": [
       "array(['170cm', '187cm', '188cm', '181cm', '175cm', '184cm', '191cm',\n",
       "       '178cm', '193cm', '185cm', '199cm', '173cm', '168cm', '176cm',\n",
       "       '177cm', '183cm', '180cm', '189cm', '179cm', '195cm', '172cm',\n",
       "       '182cm', '186cm', '192cm', '165cm', '194cm', '167cm', '196cm',\n",
       "       '163cm', '190cm', '174cm', '169cm', '171cm', '197cm', '200cm',\n",
       "       '166cm', '6\\'2\"', '164cm', '198cm', '6\\'3\"', '6\\'5\"', '5\\'11\"',\n",
       "       '6\\'4\"', '6\\'1\"', '6\\'0\"', '5\\'10\"', '5\\'9\"', '5\\'6\"', '5\\'7\"',\n",
       "       '5\\'4\"', '201cm', '158cm', '162cm', '161cm', '160cm', '203cm',\n",
       "       '157cm', '156cm', '202cm', '159cm', '206cm', '155cm'], dtype=object)"
      ]
     },
     "execution_count": 40,
     "metadata": {},
     "output_type": "execute_result"
    }
   ],
   "source": [
    "print(getUniqueCharaters(df,\"Height\"))\n",
    "df.Height.unique()"
   ]
  },
  {
   "cell_type": "code",
   "execution_count": 41,
   "id": "0a57b577",
   "metadata": {},
   "outputs": [
    {
     "data": {
      "text/plain": [
       "False"
      ]
     },
     "execution_count": 41,
     "metadata": {},
     "output_type": "execute_result"
    }
   ],
   "source": [
    "df.Height.isna().any()\n",
    "df.Height.isnull().any()"
   ]
  },
  {
   "cell_type": "code",
   "execution_count": 42,
   "id": "7ce2eab2",
   "metadata": {},
   "outputs": [],
   "source": [
    "df['Height'] = df['Height'].str.replace('cm','',regex = True)"
   ]
  },
  {
   "cell_type": "code",
   "execution_count": 43,
   "id": "0b347ab9",
   "metadata": {},
   "outputs": [],
   "source": [
    "df['Height'][df.Height.str.contains(\"'\")]\n",
    "df['Height'] = df.Height.str.replace(\"'\", '.')\n",
    "df['Height'] = df.Height.str.replace('\"', '')"
   ]
  },
  {
   "cell_type": "code",
   "execution_count": 44,
   "id": "931a20cd",
   "metadata": {},
   "outputs": [],
   "source": [
    "new_df['Height'] = pd.Series(df.Height,dtype=int)"
   ]
  },
  {
   "cell_type": "code",
   "execution_count": 45,
   "id": "49eb9f03",
   "metadata": {},
   "outputs": [],
   "source": [
    "height_cm=[]\n",
    "for height in new_df.Height:\n",
    "    height = height.split('.')\n",
    "    feets, inches = int(height[0]), int(height[0])\n",
    "    #converting ft to cm\n",
    "    feets_to_cm = feets * 30.48\n",
    "    #changing inches to cm\n",
    "    inche_to_cm = inches * 2.54\n",
    "    height_cm.append( round(float(feets_to_cm + inche_to_cm),2) )\n",
    "    new_df['Height(cm)']=pd.Series(height_cm,dtype=float)"
   ]
  },
  {
   "cell_type": "code",
   "execution_count": 46,
   "id": "5fa21479",
   "metadata": {},
   "outputs": [
    {
     "data": {
      "text/html": [
       "<div>\n",
       "<style scoped>\n",
       "    .dataframe tbody tr th:only-of-type {\n",
       "        vertical-align: middle;\n",
       "    }\n",
       "\n",
       "    .dataframe tbody tr th {\n",
       "        vertical-align: top;\n",
       "    }\n",
       "\n",
       "    .dataframe thead th {\n",
       "        text-align: right;\n",
       "    }\n",
       "</style>\n",
       "<table border=\"1\" class=\"dataframe\">\n",
       "  <thead>\n",
       "    <tr style=\"text-align: right;\">\n",
       "      <th></th>\n",
       "      <th>Height</th>\n",
       "    </tr>\n",
       "  </thead>\n",
       "  <tbody>\n",
       "    <tr>\n",
       "      <th>0</th>\n",
       "      <td>170</td>\n",
       "    </tr>\n",
       "    <tr>\n",
       "      <th>1</th>\n",
       "      <td>187</td>\n",
       "    </tr>\n",
       "    <tr>\n",
       "      <th>2</th>\n",
       "      <td>188</td>\n",
       "    </tr>\n",
       "    <tr>\n",
       "      <th>3</th>\n",
       "      <td>181</td>\n",
       "    </tr>\n",
       "    <tr>\n",
       "      <th>4</th>\n",
       "      <td>175</td>\n",
       "    </tr>\n",
       "    <tr>\n",
       "      <th>5</th>\n",
       "      <td>184</td>\n",
       "    </tr>\n",
       "    <tr>\n",
       "      <th>6</th>\n",
       "      <td>175</td>\n",
       "    </tr>\n",
       "    <tr>\n",
       "      <th>7</th>\n",
       "      <td>191</td>\n",
       "    </tr>\n",
       "    <tr>\n",
       "      <th>8</th>\n",
       "      <td>178</td>\n",
       "    </tr>\n",
       "    <tr>\n",
       "      <th>9</th>\n",
       "      <td>187</td>\n",
       "    </tr>\n",
       "    <tr>\n",
       "      <th>10</th>\n",
       "      <td>193</td>\n",
       "    </tr>\n",
       "    <tr>\n",
       "      <th>11</th>\n",
       "      <td>175</td>\n",
       "    </tr>\n",
       "    <tr>\n",
       "      <th>12</th>\n",
       "      <td>185</td>\n",
       "    </tr>\n",
       "    <tr>\n",
       "      <th>13</th>\n",
       "      <td>199</td>\n",
       "    </tr>\n",
       "    <tr>\n",
       "      <th>14</th>\n",
       "      <td>193</td>\n",
       "    </tr>\n",
       "    <tr>\n",
       "      <th>15</th>\n",
       "      <td>185</td>\n",
       "    </tr>\n",
       "    <tr>\n",
       "      <th>16</th>\n",
       "      <td>184</td>\n",
       "    </tr>\n",
       "    <tr>\n",
       "      <th>17</th>\n",
       "      <td>173</td>\n",
       "    </tr>\n",
       "    <tr>\n",
       "      <th>18</th>\n",
       "      <td>170</td>\n",
       "    </tr>\n",
       "    <tr>\n",
       "      <th>19</th>\n",
       "      <td>168</td>\n",
       "    </tr>\n",
       "    <tr>\n",
       "      <th>20</th>\n",
       "      <td>176</td>\n",
       "    </tr>\n",
       "    <tr>\n",
       "      <th>21</th>\n",
       "      <td>177</td>\n",
       "    </tr>\n",
       "    <tr>\n",
       "      <th>22</th>\n",
       "      <td>188</td>\n",
       "    </tr>\n",
       "    <tr>\n",
       "      <th>23</th>\n",
       "      <td>188</td>\n",
       "    </tr>\n",
       "    <tr>\n",
       "      <th>24</th>\n",
       "      <td>193</td>\n",
       "    </tr>\n",
       "    <tr>\n",
       "      <th>25</th>\n",
       "      <td>187</td>\n",
       "    </tr>\n",
       "    <tr>\n",
       "      <th>26</th>\n",
       "      <td>175</td>\n",
       "    </tr>\n",
       "    <tr>\n",
       "      <th>27</th>\n",
       "      <td>183</td>\n",
       "    </tr>\n",
       "    <tr>\n",
       "      <th>28</th>\n",
       "      <td>176</td>\n",
       "    </tr>\n",
       "    <tr>\n",
       "      <th>29</th>\n",
       "      <td>180</td>\n",
       "    </tr>\n",
       "    <tr>\n",
       "      <th>30</th>\n",
       "      <td>180</td>\n",
       "    </tr>\n",
       "    <tr>\n",
       "      <th>31</th>\n",
       "      <td>173</td>\n",
       "    </tr>\n",
       "    <tr>\n",
       "      <th>32</th>\n",
       "      <td>178</td>\n",
       "    </tr>\n",
       "    <tr>\n",
       "      <th>33</th>\n",
       "      <td>189</td>\n",
       "    </tr>\n",
       "    <tr>\n",
       "      <th>34</th>\n",
       "      <td>179</td>\n",
       "    </tr>\n",
       "    <tr>\n",
       "      <th>35</th>\n",
       "      <td>188</td>\n",
       "    </tr>\n",
       "    <tr>\n",
       "      <th>36</th>\n",
       "      <td>183</td>\n",
       "    </tr>\n",
       "    <tr>\n",
       "      <th>37</th>\n",
       "      <td>181</td>\n",
       "    </tr>\n",
       "    <tr>\n",
       "      <th>38</th>\n",
       "      <td>185</td>\n",
       "    </tr>\n",
       "    <tr>\n",
       "      <th>39</th>\n",
       "      <td>187</td>\n",
       "    </tr>\n",
       "    <tr>\n",
       "      <th>40</th>\n",
       "      <td>189</td>\n",
       "    </tr>\n",
       "    <tr>\n",
       "      <th>41</th>\n",
       "      <td>187</td>\n",
       "    </tr>\n",
       "    <tr>\n",
       "      <th>42</th>\n",
       "      <td>195</td>\n",
       "    </tr>\n",
       "    <tr>\n",
       "      <th>43</th>\n",
       "      <td>180</td>\n",
       "    </tr>\n",
       "    <tr>\n",
       "      <th>44</th>\n",
       "      <td>172</td>\n",
       "    </tr>\n",
       "    <tr>\n",
       "      <th>45</th>\n",
       "      <td>182</td>\n",
       "    </tr>\n",
       "    <tr>\n",
       "      <th>46</th>\n",
       "      <td>188</td>\n",
       "    </tr>\n",
       "    <tr>\n",
       "      <th>47</th>\n",
       "      <td>185</td>\n",
       "    </tr>\n",
       "    <tr>\n",
       "      <th>48</th>\n",
       "      <td>186</td>\n",
       "    </tr>\n",
       "    <tr>\n",
       "      <th>49</th>\n",
       "      <td>192</td>\n",
       "    </tr>\n",
       "    <tr>\n",
       "      <th>50</th>\n",
       "      <td>173</td>\n",
       "    </tr>\n",
       "    <tr>\n",
       "      <th>51</th>\n",
       "      <td>191</td>\n",
       "    </tr>\n",
       "    <tr>\n",
       "      <th>52</th>\n",
       "      <td>165</td>\n",
       "    </tr>\n",
       "    <tr>\n",
       "      <th>53</th>\n",
       "      <td>191</td>\n",
       "    </tr>\n",
       "    <tr>\n",
       "      <th>54</th>\n",
       "      <td>179</td>\n",
       "    </tr>\n",
       "    <tr>\n",
       "      <th>55</th>\n",
       "      <td>194</td>\n",
       "    </tr>\n",
       "    <tr>\n",
       "      <th>56</th>\n",
       "      <td>191</td>\n",
       "    </tr>\n",
       "    <tr>\n",
       "      <th>57</th>\n",
       "      <td>183</td>\n",
       "    </tr>\n",
       "    <tr>\n",
       "      <th>58</th>\n",
       "      <td>173</td>\n",
       "    </tr>\n",
       "    <tr>\n",
       "      <th>59</th>\n",
       "      <td>167</td>\n",
       "    </tr>\n",
       "  </tbody>\n",
       "</table>\n",
       "</div>"
      ],
      "text/plain": [
       "   Height\n",
       "0     170\n",
       "1     187\n",
       "2     188\n",
       "3     181\n",
       "4     175\n",
       "5     184\n",
       "6     175\n",
       "7     191\n",
       "8     178\n",
       "9     187\n",
       "10    193\n",
       "11    175\n",
       "12    185\n",
       "13    199\n",
       "14    193\n",
       "15    185\n",
       "16    184\n",
       "17    173\n",
       "18    170\n",
       "19    168\n",
       "20    176\n",
       "21    177\n",
       "22    188\n",
       "23    188\n",
       "24    193\n",
       "25    187\n",
       "26    175\n",
       "27    183\n",
       "28    176\n",
       "29    180\n",
       "30    180\n",
       "31    173\n",
       "32    178\n",
       "33    189\n",
       "34    179\n",
       "35    188\n",
       "36    183\n",
       "37    181\n",
       "38    185\n",
       "39    187\n",
       "40    189\n",
       "41    187\n",
       "42    195\n",
       "43    180\n",
       "44    172\n",
       "45    182\n",
       "46    188\n",
       "47    185\n",
       "48    186\n",
       "49    192\n",
       "50    173\n",
       "51    191\n",
       "52    165\n",
       "53    191\n",
       "54    179\n",
       "55    194\n",
       "56    191\n",
       "57    183\n",
       "58    173\n",
       "59    167"
      ]
     },
     "execution_count": 46,
     "metadata": {},
     "output_type": "execute_result"
    }
   ],
   "source": [
    "new_df[['Height']].head(60)"
   ]
  },
  {
   "cell_type": "code",
   "execution_count": 47,
   "id": "fbcff34e",
   "metadata": {},
   "outputs": [],
   "source": [
    "new_df.drop(['Height(cm)'],axis=1,inplace=True)"
   ]
  },
  {
   "cell_type": "code",
   "execution_count": 48,
   "id": "33eb9eb3",
   "metadata": {},
   "outputs": [
    {
     "data": {
      "text/html": [
       "<div>\n",
       "<style scoped>\n",
       "    .dataframe tbody tr th:only-of-type {\n",
       "        vertical-align: middle;\n",
       "    }\n",
       "\n",
       "    .dataframe tbody tr th {\n",
       "        vertical-align: top;\n",
       "    }\n",
       "\n",
       "    .dataframe thead th {\n",
       "        text-align: right;\n",
       "    }\n",
       "</style>\n",
       "<table border=\"1\" class=\"dataframe\">\n",
       "  <thead>\n",
       "    <tr style=\"text-align: right;\">\n",
       "      <th></th>\n",
       "      <th>ID</th>\n",
       "      <th>Age</th>\n",
       "      <th>OVA</th>\n",
       "      <th>POT</th>\n",
       "      <th>BOV</th>\n",
       "      <th>Attacking</th>\n",
       "      <th>Crossing</th>\n",
       "      <th>Finishing</th>\n",
       "      <th>Heading Accuracy</th>\n",
       "      <th>Short Passing</th>\n",
       "      <th>...</th>\n",
       "      <th>PHY</th>\n",
       "      <th>photoUrl</th>\n",
       "      <th>LongName</th>\n",
       "      <th>playerurl</th>\n",
       "      <th>Nationality</th>\n",
       "      <th>Contract</th>\n",
       "      <th>Club</th>\n",
       "      <th>Positions Categorical</th>\n",
       "      <th>Positions</th>\n",
       "      <th>Height</th>\n",
       "    </tr>\n",
       "  </thead>\n",
       "  <tbody>\n",
       "    <tr>\n",
       "      <th>0</th>\n",
       "      <td>158023</td>\n",
       "      <td>33</td>\n",
       "      <td>93</td>\n",
       "      <td>93</td>\n",
       "      <td>93</td>\n",
       "      <td>429</td>\n",
       "      <td>85</td>\n",
       "      <td>95</td>\n",
       "      <td>70</td>\n",
       "      <td>91</td>\n",
       "      <td>...</td>\n",
       "      <td>65</td>\n",
       "      <td>https://cdn.sofifa.com/players/158/023/21_60.png</td>\n",
       "      <td>Lionel Messi</td>\n",
       "      <td>http://sofifa.com/player/158023/lionel-messi/2...</td>\n",
       "      <td>Argentina</td>\n",
       "      <td>2004 - 2021</td>\n",
       "      <td>FC Barcelona</td>\n",
       "      <td>1</td>\n",
       "      <td>RW, ST, CF</td>\n",
       "      <td>170</td>\n",
       "    </tr>\n",
       "    <tr>\n",
       "      <th>1</th>\n",
       "      <td>20801</td>\n",
       "      <td>35</td>\n",
       "      <td>92</td>\n",
       "      <td>92</td>\n",
       "      <td>92</td>\n",
       "      <td>437</td>\n",
       "      <td>84</td>\n",
       "      <td>95</td>\n",
       "      <td>90</td>\n",
       "      <td>82</td>\n",
       "      <td>...</td>\n",
       "      <td>77</td>\n",
       "      <td>https://cdn.sofifa.com/players/020/801/21_60.png</td>\n",
       "      <td>C. Ronaldo dos Santos Aveiro</td>\n",
       "      <td>http://sofifa.com/player/20801/c-ronaldo-dos-s...</td>\n",
       "      <td>Portugal</td>\n",
       "      <td>2018 - 2022</td>\n",
       "      <td>Juventus</td>\n",
       "      <td>2</td>\n",
       "      <td>ST, LW</td>\n",
       "      <td>187</td>\n",
       "    </tr>\n",
       "    <tr>\n",
       "      <th>2</th>\n",
       "      <td>200389</td>\n",
       "      <td>27</td>\n",
       "      <td>91</td>\n",
       "      <td>93</td>\n",
       "      <td>91</td>\n",
       "      <td>95</td>\n",
       "      <td>13</td>\n",
       "      <td>11</td>\n",
       "      <td>15</td>\n",
       "      <td>43</td>\n",
       "      <td>...</td>\n",
       "      <td>90</td>\n",
       "      <td>https://cdn.sofifa.com/players/200/389/21_60.png</td>\n",
       "      <td>Jan Oblak</td>\n",
       "      <td>http://sofifa.com/player/200389/jan-oblak/210006/</td>\n",
       "      <td>Slovenia</td>\n",
       "      <td>2014 - 2023</td>\n",
       "      <td>Atlético Madrid</td>\n",
       "      <td>3</td>\n",
       "      <td>GK</td>\n",
       "      <td>188</td>\n",
       "    </tr>\n",
       "    <tr>\n",
       "      <th>3</th>\n",
       "      <td>192985</td>\n",
       "      <td>29</td>\n",
       "      <td>91</td>\n",
       "      <td>91</td>\n",
       "      <td>91</td>\n",
       "      <td>407</td>\n",
       "      <td>94</td>\n",
       "      <td>82</td>\n",
       "      <td>55</td>\n",
       "      <td>94</td>\n",
       "      <td>...</td>\n",
       "      <td>78</td>\n",
       "      <td>https://cdn.sofifa.com/players/192/985/21_60.png</td>\n",
       "      <td>Kevin De Bruyne</td>\n",
       "      <td>http://sofifa.com/player/192985/kevin-de-bruyn...</td>\n",
       "      <td>Belgium</td>\n",
       "      <td>2015 - 2023</td>\n",
       "      <td>Manchester City</td>\n",
       "      <td>4</td>\n",
       "      <td>CAM, CM</td>\n",
       "      <td>181</td>\n",
       "    </tr>\n",
       "    <tr>\n",
       "      <th>4</th>\n",
       "      <td>190871</td>\n",
       "      <td>28</td>\n",
       "      <td>91</td>\n",
       "      <td>91</td>\n",
       "      <td>91</td>\n",
       "      <td>408</td>\n",
       "      <td>85</td>\n",
       "      <td>87</td>\n",
       "      <td>62</td>\n",
       "      <td>87</td>\n",
       "      <td>...</td>\n",
       "      <td>59</td>\n",
       "      <td>https://cdn.sofifa.com/players/190/871/21_60.png</td>\n",
       "      <td>Neymar da Silva Santos Jr.</td>\n",
       "      <td>http://sofifa.com/player/190871/neymar-da-silv...</td>\n",
       "      <td>Brazil</td>\n",
       "      <td>2017 - 2022</td>\n",
       "      <td>Paris Saint-Germain</td>\n",
       "      <td>5</td>\n",
       "      <td>LW, CAM</td>\n",
       "      <td>175</td>\n",
       "    </tr>\n",
       "    <tr>\n",
       "      <th>...</th>\n",
       "      <td>...</td>\n",
       "      <td>...</td>\n",
       "      <td>...</td>\n",
       "      <td>...</td>\n",
       "      <td>...</td>\n",
       "      <td>...</td>\n",
       "      <td>...</td>\n",
       "      <td>...</td>\n",
       "      <td>...</td>\n",
       "      <td>...</td>\n",
       "      <td>...</td>\n",
       "      <td>...</td>\n",
       "      <td>...</td>\n",
       "      <td>...</td>\n",
       "      <td>...</td>\n",
       "      <td>...</td>\n",
       "      <td>...</td>\n",
       "      <td>...</td>\n",
       "      <td>...</td>\n",
       "      <td>...</td>\n",
       "      <td>...</td>\n",
       "    </tr>\n",
       "    <tr>\n",
       "      <th>18974</th>\n",
       "      <td>247223</td>\n",
       "      <td>21</td>\n",
       "      <td>47</td>\n",
       "      <td>55</td>\n",
       "      <td>49</td>\n",
       "      <td>145</td>\n",
       "      <td>23</td>\n",
       "      <td>26</td>\n",
       "      <td>43</td>\n",
       "      <td>26</td>\n",
       "      <td>...</td>\n",
       "      <td>51</td>\n",
       "      <td>https://cdn.sofifa.com/players/247/223/21_60.png</td>\n",
       "      <td>Ao Xia</td>\n",
       "      <td>http://sofifa.com/player/247223/ao-xia/210006/</td>\n",
       "      <td>China PR</td>\n",
       "      <td>2018 - 2022</td>\n",
       "      <td>Wuhan Zall</td>\n",
       "      <td>9</td>\n",
       "      <td>CB</td>\n",
       "      <td>178</td>\n",
       "    </tr>\n",
       "    <tr>\n",
       "      <th>18975</th>\n",
       "      <td>258760</td>\n",
       "      <td>17</td>\n",
       "      <td>47</td>\n",
       "      <td>67</td>\n",
       "      <td>51</td>\n",
       "      <td>211</td>\n",
       "      <td>38</td>\n",
       "      <td>42</td>\n",
       "      <td>40</td>\n",
       "      <td>56</td>\n",
       "      <td>...</td>\n",
       "      <td>45</td>\n",
       "      <td>https://cdn.sofifa.com/players/258/760/21_60.png</td>\n",
       "      <td>Ben Hough</td>\n",
       "      <td>http://sofifa.com/player/258760/ben-hough/210006/</td>\n",
       "      <td>England</td>\n",
       "      <td>2020 - 2021</td>\n",
       "      <td>Oldham Athletic</td>\n",
       "      <td>18</td>\n",
       "      <td>CM</td>\n",
       "      <td>175</td>\n",
       "    </tr>\n",
       "    <tr>\n",
       "      <th>18976</th>\n",
       "      <td>252757</td>\n",
       "      <td>18</td>\n",
       "      <td>47</td>\n",
       "      <td>65</td>\n",
       "      <td>49</td>\n",
       "      <td>200</td>\n",
       "      <td>30</td>\n",
       "      <td>34</td>\n",
       "      <td>43</td>\n",
       "      <td>54</td>\n",
       "      <td>...</td>\n",
       "      <td>53</td>\n",
       "      <td>https://cdn.sofifa.com/players/252/757/21_60.png</td>\n",
       "      <td>Ronan McKinley</td>\n",
       "      <td>http://sofifa.com/player/252757/ronan-mckinley...</td>\n",
       "      <td>England</td>\n",
       "      <td>2019 - 2020</td>\n",
       "      <td>Derry City</td>\n",
       "      <td>18</td>\n",
       "      <td>CM</td>\n",
       "      <td>179</td>\n",
       "    </tr>\n",
       "    <tr>\n",
       "      <th>18977</th>\n",
       "      <td>243790</td>\n",
       "      <td>20</td>\n",
       "      <td>47</td>\n",
       "      <td>57</td>\n",
       "      <td>48</td>\n",
       "      <td>215</td>\n",
       "      <td>45</td>\n",
       "      <td>52</td>\n",
       "      <td>34</td>\n",
       "      <td>42</td>\n",
       "      <td>...</td>\n",
       "      <td>44</td>\n",
       "      <td>https://cdn.sofifa.com/players/243/790/21_60.png</td>\n",
       "      <td>Zhen'ao Wang</td>\n",
       "      <td>http://sofifa.com/player/243790/zhenao-wang/21...</td>\n",
       "      <td>China PR</td>\n",
       "      <td>2020 - 2022</td>\n",
       "      <td>Dalian YiFang FC</td>\n",
       "      <td>7</td>\n",
       "      <td>RW</td>\n",
       "      <td>175</td>\n",
       "    </tr>\n",
       "    <tr>\n",
       "      <th>18978</th>\n",
       "      <td>252520</td>\n",
       "      <td>21</td>\n",
       "      <td>47</td>\n",
       "      <td>57</td>\n",
       "      <td>50</td>\n",
       "      <td>163</td>\n",
       "      <td>40</td>\n",
       "      <td>18</td>\n",
       "      <td>40</td>\n",
       "      <td>45</td>\n",
       "      <td>...</td>\n",
       "      <td>55</td>\n",
       "      <td>https://cdn.sofifa.com/players/252/520/21_60.png</td>\n",
       "      <td>Xiao Zhou</td>\n",
       "      <td>http://sofifa.com/player/252520/xiao-zhou/210006/</td>\n",
       "      <td>China PR</td>\n",
       "      <td>2019 - 2023</td>\n",
       "      <td>Dalian YiFang FC</td>\n",
       "      <td>51</td>\n",
       "      <td>CB, LB</td>\n",
       "      <td>188</td>\n",
       "    </tr>\n",
       "  </tbody>\n",
       "</table>\n",
       "<p>18979 rows × 63 columns</p>\n",
       "</div>"
      ],
      "text/plain": [
       "           ID  Age  OVA  POT  BOV  Attacking  Crossing  Finishing  \\\n",
       "0      158023   33   93   93   93        429        85         95   \n",
       "1       20801   35   92   92   92        437        84         95   \n",
       "2      200389   27   91   93   91         95        13         11   \n",
       "3      192985   29   91   91   91        407        94         82   \n",
       "4      190871   28   91   91   91        408        85         87   \n",
       "...       ...  ...  ...  ...  ...        ...       ...        ...   \n",
       "18974  247223   21   47   55   49        145        23         26   \n",
       "18975  258760   17   47   67   51        211        38         42   \n",
       "18976  252757   18   47   65   49        200        30         34   \n",
       "18977  243790   20   47   57   48        215        45         52   \n",
       "18978  252520   21   47   57   50        163        40         18   \n",
       "\n",
       "       Heading Accuracy  Short Passing  ...  PHY  \\\n",
       "0                    70             91  ...   65   \n",
       "1                    90             82  ...   77   \n",
       "2                    15             43  ...   90   \n",
       "3                    55             94  ...   78   \n",
       "4                    62             87  ...   59   \n",
       "...                 ...            ...  ...  ...   \n",
       "18974                43             26  ...   51   \n",
       "18975                40             56  ...   45   \n",
       "18976                43             54  ...   53   \n",
       "18977                34             42  ...   44   \n",
       "18978                40             45  ...   55   \n",
       "\n",
       "                                               photoUrl  \\\n",
       "0      https://cdn.sofifa.com/players/158/023/21_60.png   \n",
       "1      https://cdn.sofifa.com/players/020/801/21_60.png   \n",
       "2      https://cdn.sofifa.com/players/200/389/21_60.png   \n",
       "3      https://cdn.sofifa.com/players/192/985/21_60.png   \n",
       "4      https://cdn.sofifa.com/players/190/871/21_60.png   \n",
       "...                                                 ...   \n",
       "18974  https://cdn.sofifa.com/players/247/223/21_60.png   \n",
       "18975  https://cdn.sofifa.com/players/258/760/21_60.png   \n",
       "18976  https://cdn.sofifa.com/players/252/757/21_60.png   \n",
       "18977  https://cdn.sofifa.com/players/243/790/21_60.png   \n",
       "18978  https://cdn.sofifa.com/players/252/520/21_60.png   \n",
       "\n",
       "                           LongName  \\\n",
       "0                      Lionel Messi   \n",
       "1      C. Ronaldo dos Santos Aveiro   \n",
       "2                         Jan Oblak   \n",
       "3                   Kevin De Bruyne   \n",
       "4        Neymar da Silva Santos Jr.   \n",
       "...                             ...   \n",
       "18974                        Ao Xia   \n",
       "18975                     Ben Hough   \n",
       "18976                Ronan McKinley   \n",
       "18977                  Zhen'ao Wang   \n",
       "18978                     Xiao Zhou   \n",
       "\n",
       "                                               playerurl  Nationality  \\\n",
       "0      http://sofifa.com/player/158023/lionel-messi/2...    Argentina   \n",
       "1      http://sofifa.com/player/20801/c-ronaldo-dos-s...     Portugal   \n",
       "2      http://sofifa.com/player/200389/jan-oblak/210006/     Slovenia   \n",
       "3      http://sofifa.com/player/192985/kevin-de-bruyn...      Belgium   \n",
       "4      http://sofifa.com/player/190871/neymar-da-silv...       Brazil   \n",
       "...                                                  ...          ...   \n",
       "18974     http://sofifa.com/player/247223/ao-xia/210006/     China PR   \n",
       "18975  http://sofifa.com/player/258760/ben-hough/210006/      England   \n",
       "18976  http://sofifa.com/player/252757/ronan-mckinley...      England   \n",
       "18977  http://sofifa.com/player/243790/zhenao-wang/21...     China PR   \n",
       "18978  http://sofifa.com/player/252520/xiao-zhou/210006/     China PR   \n",
       "\n",
       "          Contract                 Club  Positions Categorical   Positions  \\\n",
       "0      2004 - 2021         FC Barcelona                      1  RW, ST, CF   \n",
       "1      2018 - 2022             Juventus                      2      ST, LW   \n",
       "2      2014 - 2023      Atlético Madrid                      3          GK   \n",
       "3      2015 - 2023      Manchester City                      4     CAM, CM   \n",
       "4      2017 - 2022  Paris Saint-Germain                      5     LW, CAM   \n",
       "...            ...                  ...                    ...         ...   \n",
       "18974  2018 - 2022           Wuhan Zall                      9          CB   \n",
       "18975  2020 - 2021      Oldham Athletic                     18          CM   \n",
       "18976  2019 - 2020           Derry City                     18          CM   \n",
       "18977  2020 - 2022     Dalian YiFang FC                      7          RW   \n",
       "18978  2019 - 2023     Dalian YiFang FC                     51      CB, LB   \n",
       "\n",
       "       Height  \n",
       "0         170  \n",
       "1         187  \n",
       "2         188  \n",
       "3         181  \n",
       "4         175  \n",
       "...       ...  \n",
       "18974     178  \n",
       "18975     175  \n",
       "18976     179  \n",
       "18977     175  \n",
       "18978     188  \n",
       "\n",
       "[18979 rows x 63 columns]"
      ]
     },
     "execution_count": 48,
     "metadata": {},
     "output_type": "execute_result"
    }
   ],
   "source": [
    "new_df"
   ]
  },
  {
   "cell_type": "code",
   "execution_count": 49,
   "id": "d0f83b5c",
   "metadata": {},
   "outputs": [
    {
     "name": "stdout",
     "output_type": "stream",
     "text": [
      "['7', '2', 'k', 'g', '8', '3', '0', '6', '1', '9', '5', '4', 'l', 'b', 's']\n"
     ]
    }
   ],
   "source": [
    "print(getUniqueCharaters(df,\"Weight\"))"
   ]
  },
  {
   "cell_type": "code",
   "execution_count": 50,
   "id": "88028ba5",
   "metadata": {},
   "outputs": [
    {
     "name": "stdout",
     "output_type": "stream",
     "text": [
      "False\n"
     ]
    }
   ],
   "source": [
    "print(df['Weight'].isna().any())"
   ]
  },
  {
   "cell_type": "code",
   "execution_count": 51,
   "id": "0f676d93",
   "metadata": {},
   "outputs": [
    {
     "data": {
      "text/plain": [
       "0    72kg\n",
       "1    83kg\n",
       "2    87kg\n",
       "3    70kg\n",
       "4    68kg\n",
       "5    80kg\n",
       "6    71kg\n",
       "7    91kg\n",
       "8    73kg\n",
       "9    85kg\n",
       "Name: Weight, dtype: object"
      ]
     },
     "execution_count": 51,
     "metadata": {},
     "output_type": "execute_result"
    }
   ],
   "source": [
    "df['Weight'].head(10)"
   ]
  },
  {
   "cell_type": "code",
   "execution_count": 52,
   "id": "53bb1131",
   "metadata": {},
   "outputs": [],
   "source": [
    "df['Weight']=df.Weight.str.replace('kg','')\n",
    "df['Weight']=df.Weight.str.replace('lbs','')"
   ]
  },
  {
   "cell_type": "code",
   "execution_count": 53,
   "id": "e9e1d748",
   "metadata": {},
   "outputs": [],
   "source": [
    "new_df['Weight']= pd.Series(df.Weight.copy().astype('int'))"
   ]
  },
  {
   "cell_type": "code",
   "execution_count": 54,
   "id": "1da45372",
   "metadata": {},
   "outputs": [],
   "source": [
    "df.rename(columns={'Best Position':'BP','Preferred Foot':'foot','Loan Date End':'Loan_date_end'},inplace=True)"
   ]
  },
  {
   "cell_type": "code",
   "execution_count": 55,
   "id": "dec5d912",
   "metadata": {},
   "outputs": [
    {
     "name": "stdout",
     "output_type": "stream",
     "text": [
      "['R', 'W', 'S', 'T', 'G', 'K', 'C', 'A', 'M', 'L', 'B', 'D', 'F']\n"
     ]
    }
   ],
   "source": [
    "print(getUniqueCharaters(df,\"BP\"))"
   ]
  },
  {
   "cell_type": "code",
   "execution_count": 56,
   "id": "6ef245b2",
   "metadata": {
    "scrolled": true
   },
   "outputs": [],
   "source": [
    "new_df['BP'] = pd.Series(df.BP, dtype=str)"
   ]
  },
  {
   "cell_type": "code",
   "execution_count": 57,
   "id": "d18fb51c",
   "metadata": {},
   "outputs": [
    {
     "data": {
      "text/plain": [
       "False"
      ]
     },
     "execution_count": 57,
     "metadata": {},
     "output_type": "execute_result"
    }
   ],
   "source": [
    "new_df['BP'].isna().any()"
   ]
  },
  {
   "cell_type": "code",
   "execution_count": 58,
   "id": "bb6f0706",
   "metadata": {},
   "outputs": [
    {
     "name": "stdout",
     "output_type": "stream",
     "text": [
      "['J', 'u', 'l', ' ', '1', ',', '2', '0', '4', '8', '6', 'A', 'g', '3', '5', '7', '9', 'a', 'n', 'O', 'c', 't', 'S', 'e', 'p', 'M', 'y', 'F', 'b', 'r', 'D', 'N', 'o', 'v']\n"
     ]
    }
   ],
   "source": [
    "print(getUniqueCharaters(df,\"Joined\"))"
   ]
  },
  {
   "cell_type": "code",
   "execution_count": 59,
   "id": "8ccd03cb",
   "metadata": {},
   "outputs": [
    {
     "data": {
      "text/plain": [
       "False"
      ]
     },
     "execution_count": 59,
     "metadata": {},
     "output_type": "execute_result"
    }
   ],
   "source": [
    "df['Joined'].isnull().any()"
   ]
  },
  {
   "cell_type": "code",
   "execution_count": 60,
   "id": "a45f373b",
   "metadata": {},
   "outputs": [
    {
     "data": {
      "text/plain": [
       "dtype('O')"
      ]
     },
     "execution_count": 60,
     "metadata": {},
     "output_type": "execute_result"
    }
   ],
   "source": [
    "df['Joined'].dtype"
   ]
  },
  {
   "cell_type": "code",
   "execution_count": 61,
   "id": "158bdf94",
   "metadata": {},
   "outputs": [],
   "source": [
    "new_df['Joined']=pd.to_datetime(df.Joined).dt.date"
   ]
  },
  {
   "cell_type": "code",
   "execution_count": 62,
   "id": "5c1944be",
   "metadata": {},
   "outputs": [],
   "source": [
    "df.rename(columns={'Loan Date  End':'Loan_date_end'},inplace=True)"
   ]
  },
  {
   "cell_type": "code",
   "execution_count": 63,
   "id": "2a192959",
   "metadata": {},
   "outputs": [],
   "source": [
    "new_df['Loan_date_end']=pd.to_datetime( df.Loan_date_end ).dt.date"
   ]
  },
  {
   "cell_type": "code",
   "execution_count": 64,
   "id": "724d5611",
   "metadata": {},
   "outputs": [],
   "source": [
    "new_df['Loan_date_end'].fillna(0,inplace=True)"
   ]
  },
  {
   "cell_type": "code",
   "execution_count": 65,
   "id": "d9da68f4",
   "metadata": {},
   "outputs": [],
   "source": [
    "new_df['Loan_date_end']=pd.to_datetime(df['Loan_date_end']).dt.date"
   ]
  },
  {
   "cell_type": "code",
   "execution_count": 66,
   "id": "b562ab1c",
   "metadata": {},
   "outputs": [],
   "source": [
    "df.Wage = df.Wage.str.replace('€','')\n",
    "new_values = []\n",
    "for val in df.Wage:\n",
    "    if 'M' in val:\n",
    "        raw_figure = float(val.split('M')[0])\n",
    "        new_values.append(raw_figure*1000000)\n",
    "    elif 'K' in val:\n",
    "        raw_figure = float(val.split('K')[0])\n",
    "        new_values.append(raw_figure*1000)\n",
    "    else:\n",
    "        new_values.append(val)\n",
    "new_df['Wage'] = pd.Series(new_values, dtype=float)"
   ]
  },
  {
   "cell_type": "code",
   "execution_count": 67,
   "id": "3ae9d042",
   "metadata": {},
   "outputs": [],
   "source": [
    "df['Release Clause'] = df['Release Clause'].str.replace('€','')\n",
    "new_values = []\n",
    "for val in df['Release Clause']:\n",
    "    if 'M' in val:\n",
    "        raw_figure = float(val.split('M')[0])\n",
    "        new_values.append(raw_figure*1000000)\n",
    "    elif 'K' in val:\n",
    "        raw_figure = float(val.split('K')[0])\n",
    "        new_values.append(raw_figure*1000)\n",
    "    else:\n",
    "        new_values.append(val)\n",
    "new_df['Release Clause'] = pd.Series(new_values, dtype=float)"
   ]
  },
  {
   "cell_type": "code",
   "execution_count": 68,
   "id": "69c043ed",
   "metadata": {},
   "outputs": [],
   "source": [
    "stars = {}\n",
    "numbers = []\n",
    "for star in df['W/F']:\n",
    "    number_of_stars = int(star.split(' ★')[0])\n",
    "    stars[star] = number_of_stars * '★'\n",
    "    numbers.append(int(number_of_stars))\n",
    "    copy_of_stars_column = df['W/F'].copy()\n",
    "    copy_of_stars_column.replace(stars, inplace=True)\n",
    "# Lets add them to the clean data\n",
    "new_df['W/F Stars'] = copy_of_stars_column\n",
    "new_df['W/F'] = pd.Series(numbers, dtype=int)"
   ]
  },
  {
   "cell_type": "code",
   "execution_count": 69,
   "id": "76ffa4d3",
   "metadata": {},
   "outputs": [],
   "source": [
    "stars = {}\n",
    "numbers = []\n",
    "for star in df['SM']:\n",
    "    number_of_stars = int(star.split('★')[0])\n",
    "    stars[star] = number_of_stars * '★'\n",
    "    numbers.append(int(number_of_stars))\n",
    "copy_of_stars_column = df['SM'].copy()\n",
    "copy_of_stars_column.replace(stars, inplace=True)\n",
    "new_df['SM Stars'] = copy_of_stars_column\n",
    "new_df['SM'] =pd.Series(numbers, dtype=int)"
   ]
  },
  {
   "cell_type": "code",
   "execution_count": 70,
   "id": "0295746e",
   "metadata": {},
   "outputs": [],
   "source": [
    "counter = 1\n",
    "aw_categoricals = {}\n",
    "for aw in df['A/W'].unique():\n",
    "    if aw not in aw_categoricals.keys():\n",
    "        aw_categoricals[aw] = counter\n",
    "        counter+=1\n",
    "        new_aw = df['A/W'].copy()\n",
    "        new_aw.replace(aw_categoricals, inplace=True)\n",
    "# Lets add both the clean and categorical column we just created to the clean data\n",
    "new_df['A/W'] = pd.Series(df['A/W'], dtype=str)\n",
    "new_df['A/W Categorical'] = pd.Series(new_aw).astype('int64')"
   ]
  },
  {
   "cell_type": "code",
   "execution_count": 71,
   "id": "973f9ffb",
   "metadata": {
    "scrolled": true
   },
   "outputs": [
    {
     "name": "stdout",
     "output_type": "stream",
     "text": [
      "['€', '1', '0', '3', '.', '5', 'M', '6', '2', '9', '8', '7', '4', 'K']\n"
     ]
    }
   ],
   "source": [
    "print(getUniqueCharaters(df, 'Value'))\n",
    "# We have M = million, K = thousand and the currency\n",
    "# replacing the currency\n",
    "df.Value = df.Value.str.replace('€','')\n",
    "# We will convert the M to million by multiplying by 1,000,000 and 1,000 in the case of K\n",
    "new_values = []\n",
    "for val in df.Value:\n",
    "    if 'M' in val:\n",
    "        figure = float(val.split('M')[0])\n",
    "        new_values.append(figure*1000000)\n",
    "    elif 'K' in val:\n",
    "        figure = float(val.split('K')[0])\n",
    "        new_values.append(figure*1000)\n",
    "    else:\n",
    "        new_values.append(val)\n",
    "# Lets add it to the clean data\n",
    "new_df['Value'] = pd.Series(new_values, dtype=float)"
   ]
  },
  {
   "cell_type": "code",
   "execution_count": 72,
   "id": "df7eecec",
   "metadata": {},
   "outputs": [],
   "source": [
    "counter = 1\n",
    "dw_categoricals = {}\n",
    "for dw in df['D/W'].unique():\n",
    "    if dw not in dw_categoricals.keys():\n",
    "        dw_categoricals[dw] = counter\n",
    "        counter+=1\n",
    "new_dw = df['D/W'].copy()\n",
    "new_dw.replace(dw_categoricals, inplace=True)\n",
    "new_df['D/W'] = pd.Series(df['D/W'], dtype=str)\n",
    "new_df['D/W Categorical'] = pd.Series(new_dw).astype('int64')"
   ]
  },
  {
   "cell_type": "code",
   "execution_count": 73,
   "id": "29be56ea",
   "metadata": {},
   "outputs": [],
   "source": [
    "stars = {}\n",
    "numbers = []\n",
    "for star in df.IR:\n",
    "    number_of_stars = int(star.split(' ★')[0])\n",
    "    stars[star] = number_of_stars * '★'\n",
    "    numbers.append(int(number_of_stars))\n",
    "copy_of_stars_column = df.IR.copy()\n",
    "copy_of_stars_column.replace(stars, inplace=True)\n",
    "new_df['IR Stars'] = copy_of_stars_column\n",
    "new_df['IR'] = pd.Series(numbers, dtype=int)"
   ]
  },
  {
   "cell_type": "code",
   "execution_count": 74,
   "id": "2c2b35ef",
   "metadata": {},
   "outputs": [],
   "source": [
    "hits = []\n",
    "for hit in df.Hits:\n",
    "    checked = \"\"\n",
    "# Checks and deal with integers\n",
    "    if type(hit) != str:\n",
    "        checked = result\n",
    "# Checks and deal with string...they have the white spaces\n",
    "    else:\n",
    "        result = hit.strip()\n",
    "        checked = result\n",
    "# Handle the thousands\n",
    "    if \"K\" in str(checked):\n",
    "        result = checked.replace(\"K\",'')\n",
    "        result = float(result) * 1000\n",
    "        hits.append(result)\n",
    "    else:\n",
    "        result = float(checked)\n",
    "        hits.append(result)\n",
    "# Add it to the clean columns\n",
    "new_df['Hits'] = pd.Series(hits, dtype=float)"
   ]
  },
  {
   "cell_type": "code",
   "execution_count": 75,
   "id": "6333dcfb",
   "metadata": {},
   "outputs": [
    {
     "data": {
      "text/html": [
       "<div>\n",
       "<style scoped>\n",
       "    .dataframe tbody tr th:only-of-type {\n",
       "        vertical-align: middle;\n",
       "    }\n",
       "\n",
       "    .dataframe tbody tr th {\n",
       "        vertical-align: top;\n",
       "    }\n",
       "\n",
       "    .dataframe thead th {\n",
       "        text-align: right;\n",
       "    }\n",
       "</style>\n",
       "<table border=\"1\" class=\"dataframe\">\n",
       "  <thead>\n",
       "    <tr style=\"text-align: right;\">\n",
       "      <th></th>\n",
       "      <th>ID</th>\n",
       "      <th>Age</th>\n",
       "      <th>OVA</th>\n",
       "      <th>POT</th>\n",
       "      <th>BOV</th>\n",
       "      <th>Attacking</th>\n",
       "      <th>Crossing</th>\n",
       "      <th>Finishing</th>\n",
       "      <th>Heading Accuracy</th>\n",
       "      <th>Short Passing</th>\n",
       "      <th>...</th>\n",
       "      <th>SM Stars</th>\n",
       "      <th>SM</th>\n",
       "      <th>A/W</th>\n",
       "      <th>A/W Categorical</th>\n",
       "      <th>Value</th>\n",
       "      <th>D/W</th>\n",
       "      <th>D/W Categorical</th>\n",
       "      <th>IR Stars</th>\n",
       "      <th>IR</th>\n",
       "      <th>Hits</th>\n",
       "    </tr>\n",
       "  </thead>\n",
       "  <tbody>\n",
       "    <tr>\n",
       "      <th>0</th>\n",
       "      <td>158023</td>\n",
       "      <td>33</td>\n",
       "      <td>93</td>\n",
       "      <td>93</td>\n",
       "      <td>93</td>\n",
       "      <td>429</td>\n",
       "      <td>85</td>\n",
       "      <td>95</td>\n",
       "      <td>70</td>\n",
       "      <td>91</td>\n",
       "      <td>...</td>\n",
       "      <td>★★★★</td>\n",
       "      <td>4</td>\n",
       "      <td>Medium</td>\n",
       "      <td>1</td>\n",
       "      <td>103500000.0</td>\n",
       "      <td>Low</td>\n",
       "      <td>1</td>\n",
       "      <td>★★★★★</td>\n",
       "      <td>5</td>\n",
       "      <td>771.0</td>\n",
       "    </tr>\n",
       "    <tr>\n",
       "      <th>1</th>\n",
       "      <td>20801</td>\n",
       "      <td>35</td>\n",
       "      <td>92</td>\n",
       "      <td>92</td>\n",
       "      <td>92</td>\n",
       "      <td>437</td>\n",
       "      <td>84</td>\n",
       "      <td>95</td>\n",
       "      <td>90</td>\n",
       "      <td>82</td>\n",
       "      <td>...</td>\n",
       "      <td>★★★★★</td>\n",
       "      <td>5</td>\n",
       "      <td>High</td>\n",
       "      <td>2</td>\n",
       "      <td>63000000.0</td>\n",
       "      <td>Low</td>\n",
       "      <td>1</td>\n",
       "      <td>★★★★★</td>\n",
       "      <td>5</td>\n",
       "      <td>562.0</td>\n",
       "    </tr>\n",
       "    <tr>\n",
       "      <th>2</th>\n",
       "      <td>200389</td>\n",
       "      <td>27</td>\n",
       "      <td>91</td>\n",
       "      <td>93</td>\n",
       "      <td>91</td>\n",
       "      <td>95</td>\n",
       "      <td>13</td>\n",
       "      <td>11</td>\n",
       "      <td>15</td>\n",
       "      <td>43</td>\n",
       "      <td>...</td>\n",
       "      <td>★</td>\n",
       "      <td>1</td>\n",
       "      <td>Medium</td>\n",
       "      <td>1</td>\n",
       "      <td>120000000.0</td>\n",
       "      <td>Medium</td>\n",
       "      <td>2</td>\n",
       "      <td>★★★</td>\n",
       "      <td>3</td>\n",
       "      <td>150.0</td>\n",
       "    </tr>\n",
       "    <tr>\n",
       "      <th>3</th>\n",
       "      <td>192985</td>\n",
       "      <td>29</td>\n",
       "      <td>91</td>\n",
       "      <td>91</td>\n",
       "      <td>91</td>\n",
       "      <td>407</td>\n",
       "      <td>94</td>\n",
       "      <td>82</td>\n",
       "      <td>55</td>\n",
       "      <td>94</td>\n",
       "      <td>...</td>\n",
       "      <td>★★★★</td>\n",
       "      <td>4</td>\n",
       "      <td>High</td>\n",
       "      <td>2</td>\n",
       "      <td>129000000.0</td>\n",
       "      <td>High</td>\n",
       "      <td>3</td>\n",
       "      <td>★★★★</td>\n",
       "      <td>4</td>\n",
       "      <td>207.0</td>\n",
       "    </tr>\n",
       "    <tr>\n",
       "      <th>4</th>\n",
       "      <td>190871</td>\n",
       "      <td>28</td>\n",
       "      <td>91</td>\n",
       "      <td>91</td>\n",
       "      <td>91</td>\n",
       "      <td>408</td>\n",
       "      <td>85</td>\n",
       "      <td>87</td>\n",
       "      <td>62</td>\n",
       "      <td>87</td>\n",
       "      <td>...</td>\n",
       "      <td>★★★★★</td>\n",
       "      <td>5</td>\n",
       "      <td>High</td>\n",
       "      <td>2</td>\n",
       "      <td>132000000.0</td>\n",
       "      <td>Medium</td>\n",
       "      <td>2</td>\n",
       "      <td>★★★★★</td>\n",
       "      <td>5</td>\n",
       "      <td>595.0</td>\n",
       "    </tr>\n",
       "    <tr>\n",
       "      <th>5</th>\n",
       "      <td>188545</td>\n",
       "      <td>31</td>\n",
       "      <td>91</td>\n",
       "      <td>91</td>\n",
       "      <td>91</td>\n",
       "      <td>423</td>\n",
       "      <td>71</td>\n",
       "      <td>94</td>\n",
       "      <td>85</td>\n",
       "      <td>84</td>\n",
       "      <td>...</td>\n",
       "      <td>★★★★</td>\n",
       "      <td>4</td>\n",
       "      <td>High</td>\n",
       "      <td>2</td>\n",
       "      <td>111000000.0</td>\n",
       "      <td>Medium</td>\n",
       "      <td>2</td>\n",
       "      <td>★★★★</td>\n",
       "      <td>4</td>\n",
       "      <td>248.0</td>\n",
       "    </tr>\n",
       "    <tr>\n",
       "      <th>6</th>\n",
       "      <td>209331</td>\n",
       "      <td>28</td>\n",
       "      <td>90</td>\n",
       "      <td>90</td>\n",
       "      <td>90</td>\n",
       "      <td>392</td>\n",
       "      <td>79</td>\n",
       "      <td>91</td>\n",
       "      <td>59</td>\n",
       "      <td>84</td>\n",
       "      <td>...</td>\n",
       "      <td>★★★★</td>\n",
       "      <td>4</td>\n",
       "      <td>High</td>\n",
       "      <td>2</td>\n",
       "      <td>120500000.0</td>\n",
       "      <td>Medium</td>\n",
       "      <td>2</td>\n",
       "      <td>★★★</td>\n",
       "      <td>3</td>\n",
       "      <td>246.0</td>\n",
       "    </tr>\n",
       "    <tr>\n",
       "      <th>7</th>\n",
       "      <td>212831</td>\n",
       "      <td>27</td>\n",
       "      <td>90</td>\n",
       "      <td>91</td>\n",
       "      <td>90</td>\n",
       "      <td>114</td>\n",
       "      <td>17</td>\n",
       "      <td>13</td>\n",
       "      <td>19</td>\n",
       "      <td>45</td>\n",
       "      <td>...</td>\n",
       "      <td>★</td>\n",
       "      <td>1</td>\n",
       "      <td>Medium</td>\n",
       "      <td>1</td>\n",
       "      <td>102000000.0</td>\n",
       "      <td>Medium</td>\n",
       "      <td>2</td>\n",
       "      <td>★★★</td>\n",
       "      <td>3</td>\n",
       "      <td>120.0</td>\n",
       "    </tr>\n",
       "    <tr>\n",
       "      <th>8</th>\n",
       "      <td>231747</td>\n",
       "      <td>21</td>\n",
       "      <td>90</td>\n",
       "      <td>95</td>\n",
       "      <td>91</td>\n",
       "      <td>408</td>\n",
       "      <td>78</td>\n",
       "      <td>91</td>\n",
       "      <td>73</td>\n",
       "      <td>83</td>\n",
       "      <td>...</td>\n",
       "      <td>★★★★★</td>\n",
       "      <td>5</td>\n",
       "      <td>High</td>\n",
       "      <td>2</td>\n",
       "      <td>185500000.0</td>\n",
       "      <td>Low</td>\n",
       "      <td>1</td>\n",
       "      <td>★★★</td>\n",
       "      <td>3</td>\n",
       "      <td>1600.0</td>\n",
       "    </tr>\n",
       "    <tr>\n",
       "      <th>9</th>\n",
       "      <td>192448</td>\n",
       "      <td>28</td>\n",
       "      <td>90</td>\n",
       "      <td>93</td>\n",
       "      <td>90</td>\n",
       "      <td>118</td>\n",
       "      <td>18</td>\n",
       "      <td>14</td>\n",
       "      <td>11</td>\n",
       "      <td>61</td>\n",
       "      <td>...</td>\n",
       "      <td>★</td>\n",
       "      <td>1</td>\n",
       "      <td>Medium</td>\n",
       "      <td>1</td>\n",
       "      <td>110000000.0</td>\n",
       "      <td>Medium</td>\n",
       "      <td>2</td>\n",
       "      <td>★★★</td>\n",
       "      <td>3</td>\n",
       "      <td>130.0</td>\n",
       "    </tr>\n",
       "  </tbody>\n",
       "</table>\n",
       "<p>10 rows × 81 columns</p>\n",
       "</div>"
      ],
      "text/plain": [
       "       ID  Age  OVA  POT  BOV  Attacking  Crossing  Finishing  \\\n",
       "0  158023   33   93   93   93        429        85         95   \n",
       "1   20801   35   92   92   92        437        84         95   \n",
       "2  200389   27   91   93   91         95        13         11   \n",
       "3  192985   29   91   91   91        407        94         82   \n",
       "4  190871   28   91   91   91        408        85         87   \n",
       "5  188545   31   91   91   91        423        71         94   \n",
       "6  209331   28   90   90   90        392        79         91   \n",
       "7  212831   27   90   91   90        114        17         13   \n",
       "8  231747   21   90   95   91        408        78         91   \n",
       "9  192448   28   90   93   90        118        18         14   \n",
       "\n",
       "   Heading Accuracy  Short Passing  ...  SM Stars  SM     A/W  \\\n",
       "0                70             91  ...      ★★★★   4  Medium   \n",
       "1                90             82  ...     ★★★★★   5    High   \n",
       "2                15             43  ...         ★   1  Medium   \n",
       "3                55             94  ...      ★★★★   4    High   \n",
       "4                62             87  ...     ★★★★★   5    High   \n",
       "5                85             84  ...      ★★★★   4    High   \n",
       "6                59             84  ...      ★★★★   4    High   \n",
       "7                19             45  ...         ★   1  Medium   \n",
       "8                73             83  ...     ★★★★★   5    High   \n",
       "9                11             61  ...         ★   1  Medium   \n",
       "\n",
       "   A/W Categorical        Value     D/W  D/W Categorical  IR Stars  IR    Hits  \n",
       "0                1  103500000.0     Low                1     ★★★★★   5   771.0  \n",
       "1                2   63000000.0     Low                1     ★★★★★   5   562.0  \n",
       "2                1  120000000.0  Medium                2       ★★★   3   150.0  \n",
       "3                2  129000000.0    High                3      ★★★★   4   207.0  \n",
       "4                2  132000000.0  Medium                2     ★★★★★   5   595.0  \n",
       "5                2  111000000.0  Medium                2      ★★★★   4   248.0  \n",
       "6                2  120500000.0  Medium                2       ★★★   3   246.0  \n",
       "7                1  102000000.0  Medium                2       ★★★   3   120.0  \n",
       "8                2  185500000.0     Low                1       ★★★   3  1600.0  \n",
       "9                1  110000000.0  Medium                2       ★★★   3   130.0  \n",
       "\n",
       "[10 rows x 81 columns]"
      ]
     },
     "execution_count": 75,
     "metadata": {},
     "output_type": "execute_result"
    }
   ],
   "source": [
    "#to the best of my ability the dataset is clean\n",
    "#lets assess the data for the last time\n",
    "new_df.head(10)"
   ]
  },
  {
   "cell_type": "code",
   "execution_count": 76,
   "id": "04eb0425",
   "metadata": {},
   "outputs": [
    {
     "name": "stdout",
     "output_type": "stream",
     "text": [
      "<class 'pandas.core.frame.DataFrame'>\n",
      "RangeIndex: 18979 entries, 0 to 18978\n",
      "Data columns (total 81 columns):\n",
      " #   Column                 Non-Null Count  Dtype  \n",
      "---  ------                 --------------  -----  \n",
      " 0   ID                     18979 non-null  int64  \n",
      " 1   Age                    18979 non-null  int64  \n",
      " 2   OVA                    18979 non-null  int64  \n",
      " 3   POT                    18979 non-null  int64  \n",
      " 4   BOV                    18979 non-null  int64  \n",
      " 5   Attacking              18979 non-null  int64  \n",
      " 6   Crossing               18979 non-null  int64  \n",
      " 7   Finishing              18979 non-null  int64  \n",
      " 8   Heading Accuracy       18979 non-null  int64  \n",
      " 9   Short Passing          18979 non-null  int64  \n",
      " 10  Volleys                18979 non-null  int64  \n",
      " 11  Skill                  18979 non-null  int64  \n",
      " 12  Dribbling              18979 non-null  int64  \n",
      " 13  Curve                  18979 non-null  int64  \n",
      " 14  FK Accuracy            18979 non-null  int64  \n",
      " 15  Long Passing           18979 non-null  int64  \n",
      " 16  Ball Control           18979 non-null  int64  \n",
      " 17  Movement               18979 non-null  int64  \n",
      " 18  Acceleration           18979 non-null  int64  \n",
      " 19  Sprint Speed           18979 non-null  int64  \n",
      " 20  Agility                18979 non-null  int64  \n",
      " 21  Reactions              18979 non-null  int64  \n",
      " 22  Balance                18979 non-null  int64  \n",
      " 23  Power                  18979 non-null  int64  \n",
      " 24  Shot Power             18979 non-null  int64  \n",
      " 25  Jumping                18979 non-null  int64  \n",
      " 26  Stamina                18979 non-null  int64  \n",
      " 27  Strength               18979 non-null  int64  \n",
      " 28  Long Shots             18979 non-null  int64  \n",
      " 29  Mentality              18979 non-null  int64  \n",
      " 30  Aggression             18979 non-null  int64  \n",
      " 31  Interceptions          18979 non-null  int64  \n",
      " 32  Positioning            18979 non-null  int64  \n",
      " 33  Vision                 18979 non-null  int64  \n",
      " 34  Penalties              18979 non-null  int64  \n",
      " 35  Composure              18979 non-null  int64  \n",
      " 36  Defending              18979 non-null  int64  \n",
      " 37  Marking                18979 non-null  int64  \n",
      " 38  Standing Tackle        18979 non-null  int64  \n",
      " 39  Sliding Tackle         18979 non-null  int64  \n",
      " 40  Goalkeeping            18979 non-null  int64  \n",
      " 41  GK Diving              18979 non-null  int64  \n",
      " 42  GK Handling            18979 non-null  int64  \n",
      " 43  GK Kicking             18979 non-null  int64  \n",
      " 44  GK Positioning         18979 non-null  int64  \n",
      " 45  GK Reflexes            18979 non-null  int64  \n",
      " 46  Total Stats            18979 non-null  int64  \n",
      " 47  Base Stats             18979 non-null  int64  \n",
      " 48  PAC                    18979 non-null  int64  \n",
      " 49  SHO                    18979 non-null  int64  \n",
      " 50  PAS                    18979 non-null  int64  \n",
      " 51  DRI                    18979 non-null  int64  \n",
      " 52  DEF                    18979 non-null  int64  \n",
      " 53  PHY                    18979 non-null  int64  \n",
      " 54  photoUrl               18979 non-null  object \n",
      " 55  LongName               18979 non-null  object \n",
      " 56  playerurl              18979 non-null  object \n",
      " 57  Nationality            18979 non-null  object \n",
      " 58  Contract               18979 non-null  object \n",
      " 59  Club                   18979 non-null  object \n",
      " 60  Positions Categorical  18979 non-null  int64  \n",
      " 61  Positions              18979 non-null  object \n",
      " 62  Height                 18979 non-null  object \n",
      " 63  Weight                 18979 non-null  int32  \n",
      " 64  BP                     18979 non-null  object \n",
      " 65  Joined                 18979 non-null  object \n",
      " 66  Loan_date_end          1013 non-null   object \n",
      " 67  Wage                   18979 non-null  float64\n",
      " 68  Release Clause         18979 non-null  float64\n",
      " 69  W/F Stars              18979 non-null  object \n",
      " 70  W/F                    18979 non-null  int32  \n",
      " 71  SM Stars               18979 non-null  object \n",
      " 72  SM                     18979 non-null  int32  \n",
      " 73  A/W                    18979 non-null  object \n",
      " 74  A/W Categorical        18979 non-null  int64  \n",
      " 75  Value                  18979 non-null  float64\n",
      " 76  D/W                    18979 non-null  object \n",
      " 77  D/W Categorical        18979 non-null  int64  \n",
      " 78  IR Stars               18979 non-null  object \n",
      " 79  IR                     18979 non-null  int32  \n",
      " 80  Hits                   18979 non-null  float64\n",
      "dtypes: float64(4), int32(4), int64(57), object(16)\n",
      "memory usage: 11.4+ MB\n"
     ]
    }
   ],
   "source": [
    "new_df.info()"
   ]
  },
  {
   "cell_type": "code",
   "execution_count": 77,
   "id": "b443447b",
   "metadata": {},
   "outputs": [],
   "source": [
    "new_df['Joined'] = pd.to_datetime(new_df['Joined'])\n",
    "# To the best of my ability this data is clean"
   ]
  },
  {
   "cell_type": "markdown",
   "id": "16674b7a",
   "metadata": {},
   "source": [
    "### Best regards to Pastyasamoah\n"
   ]
  },
  {
   "cell_type": "markdown",
   "id": "deab482b",
   "metadata": {},
   "source": [
    "### one love to Chinonso and co"
   ]
  },
  {
   "cell_type": "code",
   "execution_count": null,
   "id": "e924cc6b",
   "metadata": {},
   "outputs": [],
   "source": []
  }
 ],
 "metadata": {
  "kernelspec": {
   "display_name": "Python 3 (ipykernel)",
   "language": "python",
   "name": "python3"
  },
  "language_info": {
   "codemirror_mode": {
    "name": "ipython",
    "version": 3
   },
   "file_extension": ".py",
   "mimetype": "text/x-python",
   "name": "python",
   "nbconvert_exporter": "python",
   "pygments_lexer": "ipython3",
   "version": "3.9.12"
  }
 },
 "nbformat": 4,
 "nbformat_minor": 5
}
